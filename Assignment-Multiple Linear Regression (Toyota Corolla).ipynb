{
 "cells": [
  {
   "cell_type": "code",
   "execution_count": 1,
   "id": "669884d9",
   "metadata": {},
   "outputs": [],
   "source": [
    "import pandas as pd\n",
    "import numpy as np\n",
    "import matplotlib.pyplot as plt\n",
    "import seaborn as sns\n",
    "\n"
   ]
  },
  {
   "cell_type": "code",
   "execution_count": 2,
   "id": "297f20ec",
   "metadata": {},
   "outputs": [],
   "source": [
    "df=pd.read_csv(\"ToyotaCorolla - MLR.csv\")"
   ]
  },
  {
   "cell_type": "code",
   "execution_count": 3,
   "id": "83924ca6",
   "metadata": {
    "scrolled": true
   },
   "outputs": [
    {
     "data": {
      "text/html": [
       "<div>\n",
       "<style scoped>\n",
       "    .dataframe tbody tr th:only-of-type {\n",
       "        vertical-align: middle;\n",
       "    }\n",
       "\n",
       "    .dataframe tbody tr th {\n",
       "        vertical-align: top;\n",
       "    }\n",
       "\n",
       "    .dataframe thead th {\n",
       "        text-align: right;\n",
       "    }\n",
       "</style>\n",
       "<table border=\"1\" class=\"dataframe\">\n",
       "  <thead>\n",
       "    <tr style=\"text-align: right;\">\n",
       "      <th></th>\n",
       "      <th>Price</th>\n",
       "      <th>Age_08_04</th>\n",
       "      <th>KM</th>\n",
       "      <th>Fuel_Type</th>\n",
       "      <th>HP</th>\n",
       "      <th>Automatic</th>\n",
       "      <th>cc</th>\n",
       "      <th>Doors</th>\n",
       "      <th>Cylinders</th>\n",
       "      <th>Gears</th>\n",
       "      <th>Weight</th>\n",
       "    </tr>\n",
       "  </thead>\n",
       "  <tbody>\n",
       "    <tr>\n",
       "      <th>0</th>\n",
       "      <td>13500</td>\n",
       "      <td>23</td>\n",
       "      <td>46986</td>\n",
       "      <td>Diesel</td>\n",
       "      <td>90</td>\n",
       "      <td>0</td>\n",
       "      <td>2000</td>\n",
       "      <td>3</td>\n",
       "      <td>4</td>\n",
       "      <td>5</td>\n",
       "      <td>1165</td>\n",
       "    </tr>\n",
       "    <tr>\n",
       "      <th>1</th>\n",
       "      <td>13750</td>\n",
       "      <td>23</td>\n",
       "      <td>72937</td>\n",
       "      <td>Diesel</td>\n",
       "      <td>90</td>\n",
       "      <td>0</td>\n",
       "      <td>2000</td>\n",
       "      <td>3</td>\n",
       "      <td>4</td>\n",
       "      <td>5</td>\n",
       "      <td>1165</td>\n",
       "    </tr>\n",
       "    <tr>\n",
       "      <th>2</th>\n",
       "      <td>13950</td>\n",
       "      <td>24</td>\n",
       "      <td>41711</td>\n",
       "      <td>Diesel</td>\n",
       "      <td>90</td>\n",
       "      <td>0</td>\n",
       "      <td>2000</td>\n",
       "      <td>3</td>\n",
       "      <td>4</td>\n",
       "      <td>5</td>\n",
       "      <td>1165</td>\n",
       "    </tr>\n",
       "    <tr>\n",
       "      <th>3</th>\n",
       "      <td>14950</td>\n",
       "      <td>26</td>\n",
       "      <td>48000</td>\n",
       "      <td>Diesel</td>\n",
       "      <td>90</td>\n",
       "      <td>0</td>\n",
       "      <td>2000</td>\n",
       "      <td>3</td>\n",
       "      <td>4</td>\n",
       "      <td>5</td>\n",
       "      <td>1165</td>\n",
       "    </tr>\n",
       "    <tr>\n",
       "      <th>4</th>\n",
       "      <td>13750</td>\n",
       "      <td>30</td>\n",
       "      <td>38500</td>\n",
       "      <td>Diesel</td>\n",
       "      <td>90</td>\n",
       "      <td>0</td>\n",
       "      <td>2000</td>\n",
       "      <td>3</td>\n",
       "      <td>4</td>\n",
       "      <td>5</td>\n",
       "      <td>1170</td>\n",
       "    </tr>\n",
       "    <tr>\n",
       "      <th>...</th>\n",
       "      <td>...</td>\n",
       "      <td>...</td>\n",
       "      <td>...</td>\n",
       "      <td>...</td>\n",
       "      <td>...</td>\n",
       "      <td>...</td>\n",
       "      <td>...</td>\n",
       "      <td>...</td>\n",
       "      <td>...</td>\n",
       "      <td>...</td>\n",
       "      <td>...</td>\n",
       "    </tr>\n",
       "    <tr>\n",
       "      <th>1431</th>\n",
       "      <td>7500</td>\n",
       "      <td>69</td>\n",
       "      <td>20544</td>\n",
       "      <td>Petrol</td>\n",
       "      <td>86</td>\n",
       "      <td>0</td>\n",
       "      <td>1300</td>\n",
       "      <td>3</td>\n",
       "      <td>4</td>\n",
       "      <td>5</td>\n",
       "      <td>1025</td>\n",
       "    </tr>\n",
       "    <tr>\n",
       "      <th>1432</th>\n",
       "      <td>10845</td>\n",
       "      <td>72</td>\n",
       "      <td>19000</td>\n",
       "      <td>Petrol</td>\n",
       "      <td>86</td>\n",
       "      <td>0</td>\n",
       "      <td>1300</td>\n",
       "      <td>3</td>\n",
       "      <td>4</td>\n",
       "      <td>5</td>\n",
       "      <td>1015</td>\n",
       "    </tr>\n",
       "    <tr>\n",
       "      <th>1433</th>\n",
       "      <td>8500</td>\n",
       "      <td>71</td>\n",
       "      <td>17016</td>\n",
       "      <td>Petrol</td>\n",
       "      <td>86</td>\n",
       "      <td>0</td>\n",
       "      <td>1300</td>\n",
       "      <td>3</td>\n",
       "      <td>4</td>\n",
       "      <td>5</td>\n",
       "      <td>1015</td>\n",
       "    </tr>\n",
       "    <tr>\n",
       "      <th>1434</th>\n",
       "      <td>7250</td>\n",
       "      <td>70</td>\n",
       "      <td>16916</td>\n",
       "      <td>Petrol</td>\n",
       "      <td>86</td>\n",
       "      <td>0</td>\n",
       "      <td>1300</td>\n",
       "      <td>3</td>\n",
       "      <td>4</td>\n",
       "      <td>5</td>\n",
       "      <td>1015</td>\n",
       "    </tr>\n",
       "    <tr>\n",
       "      <th>1435</th>\n",
       "      <td>6950</td>\n",
       "      <td>76</td>\n",
       "      <td>1</td>\n",
       "      <td>Petrol</td>\n",
       "      <td>110</td>\n",
       "      <td>0</td>\n",
       "      <td>1600</td>\n",
       "      <td>5</td>\n",
       "      <td>4</td>\n",
       "      <td>5</td>\n",
       "      <td>1114</td>\n",
       "    </tr>\n",
       "  </tbody>\n",
       "</table>\n",
       "<p>1436 rows × 11 columns</p>\n",
       "</div>"
      ],
      "text/plain": [
       "      Price  Age_08_04     KM Fuel_Type   HP  Automatic    cc  Doors  \\\n",
       "0     13500         23  46986    Diesel   90          0  2000      3   \n",
       "1     13750         23  72937    Diesel   90          0  2000      3   \n",
       "2     13950         24  41711    Diesel   90          0  2000      3   \n",
       "3     14950         26  48000    Diesel   90          0  2000      3   \n",
       "4     13750         30  38500    Diesel   90          0  2000      3   \n",
       "...     ...        ...    ...       ...  ...        ...   ...    ...   \n",
       "1431   7500         69  20544    Petrol   86          0  1300      3   \n",
       "1432  10845         72  19000    Petrol   86          0  1300      3   \n",
       "1433   8500         71  17016    Petrol   86          0  1300      3   \n",
       "1434   7250         70  16916    Petrol   86          0  1300      3   \n",
       "1435   6950         76      1    Petrol  110          0  1600      5   \n",
       "\n",
       "      Cylinders  Gears  Weight  \n",
       "0             4      5    1165  \n",
       "1             4      5    1165  \n",
       "2             4      5    1165  \n",
       "3             4      5    1165  \n",
       "4             4      5    1170  \n",
       "...         ...    ...     ...  \n",
       "1431          4      5    1025  \n",
       "1432          4      5    1015  \n",
       "1433          4      5    1015  \n",
       "1434          4      5    1015  \n",
       "1435          4      5    1114  \n",
       "\n",
       "[1436 rows x 11 columns]"
      ]
     },
     "execution_count": 3,
     "metadata": {},
     "output_type": "execute_result"
    }
   ],
   "source": [
    "df"
   ]
  },
  {
   "cell_type": "code",
   "execution_count": 4,
   "id": "972f7d95",
   "metadata": {},
   "outputs": [
    {
     "data": {
      "text/html": [
       "<div>\n",
       "<style scoped>\n",
       "    .dataframe tbody tr th:only-of-type {\n",
       "        vertical-align: middle;\n",
       "    }\n",
       "\n",
       "    .dataframe tbody tr th {\n",
       "        vertical-align: top;\n",
       "    }\n",
       "\n",
       "    .dataframe thead th {\n",
       "        text-align: right;\n",
       "    }\n",
       "</style>\n",
       "<table border=\"1\" class=\"dataframe\">\n",
       "  <thead>\n",
       "    <tr style=\"text-align: right;\">\n",
       "      <th></th>\n",
       "      <th>Price</th>\n",
       "      <th>Age_08_04</th>\n",
       "      <th>KM</th>\n",
       "      <th>Fuel_Type</th>\n",
       "      <th>HP</th>\n",
       "      <th>Automatic</th>\n",
       "      <th>cc</th>\n",
       "      <th>Doors</th>\n",
       "      <th>Cylinders</th>\n",
       "      <th>Gears</th>\n",
       "      <th>Weight</th>\n",
       "    </tr>\n",
       "  </thead>\n",
       "  <tbody>\n",
       "    <tr>\n",
       "      <th>1431</th>\n",
       "      <td>7500</td>\n",
       "      <td>69</td>\n",
       "      <td>20544</td>\n",
       "      <td>Petrol</td>\n",
       "      <td>86</td>\n",
       "      <td>0</td>\n",
       "      <td>1300</td>\n",
       "      <td>3</td>\n",
       "      <td>4</td>\n",
       "      <td>5</td>\n",
       "      <td>1025</td>\n",
       "    </tr>\n",
       "    <tr>\n",
       "      <th>1432</th>\n",
       "      <td>10845</td>\n",
       "      <td>72</td>\n",
       "      <td>19000</td>\n",
       "      <td>Petrol</td>\n",
       "      <td>86</td>\n",
       "      <td>0</td>\n",
       "      <td>1300</td>\n",
       "      <td>3</td>\n",
       "      <td>4</td>\n",
       "      <td>5</td>\n",
       "      <td>1015</td>\n",
       "    </tr>\n",
       "    <tr>\n",
       "      <th>1433</th>\n",
       "      <td>8500</td>\n",
       "      <td>71</td>\n",
       "      <td>17016</td>\n",
       "      <td>Petrol</td>\n",
       "      <td>86</td>\n",
       "      <td>0</td>\n",
       "      <td>1300</td>\n",
       "      <td>3</td>\n",
       "      <td>4</td>\n",
       "      <td>5</td>\n",
       "      <td>1015</td>\n",
       "    </tr>\n",
       "    <tr>\n",
       "      <th>1434</th>\n",
       "      <td>7250</td>\n",
       "      <td>70</td>\n",
       "      <td>16916</td>\n",
       "      <td>Petrol</td>\n",
       "      <td>86</td>\n",
       "      <td>0</td>\n",
       "      <td>1300</td>\n",
       "      <td>3</td>\n",
       "      <td>4</td>\n",
       "      <td>5</td>\n",
       "      <td>1015</td>\n",
       "    </tr>\n",
       "    <tr>\n",
       "      <th>1435</th>\n",
       "      <td>6950</td>\n",
       "      <td>76</td>\n",
       "      <td>1</td>\n",
       "      <td>Petrol</td>\n",
       "      <td>110</td>\n",
       "      <td>0</td>\n",
       "      <td>1600</td>\n",
       "      <td>5</td>\n",
       "      <td>4</td>\n",
       "      <td>5</td>\n",
       "      <td>1114</td>\n",
       "    </tr>\n",
       "  </tbody>\n",
       "</table>\n",
       "</div>"
      ],
      "text/plain": [
       "      Price  Age_08_04     KM Fuel_Type   HP  Automatic    cc  Doors  \\\n",
       "1431   7500         69  20544    Petrol   86          0  1300      3   \n",
       "1432  10845         72  19000    Petrol   86          0  1300      3   \n",
       "1433   8500         71  17016    Petrol   86          0  1300      3   \n",
       "1434   7250         70  16916    Petrol   86          0  1300      3   \n",
       "1435   6950         76      1    Petrol  110          0  1600      5   \n",
       "\n",
       "      Cylinders  Gears  Weight  \n",
       "1431          4      5    1025  \n",
       "1432          4      5    1015  \n",
       "1433          4      5    1015  \n",
       "1434          4      5    1015  \n",
       "1435          4      5    1114  "
      ]
     },
     "execution_count": 4,
     "metadata": {},
     "output_type": "execute_result"
    }
   ],
   "source": [
    "df.tail()"
   ]
  },
  {
   "cell_type": "code",
   "execution_count": 5,
   "id": "3759e3ad",
   "metadata": {},
   "outputs": [
    {
     "data": {
      "text/html": [
       "<div>\n",
       "<style scoped>\n",
       "    .dataframe tbody tr th:only-of-type {\n",
       "        vertical-align: middle;\n",
       "    }\n",
       "\n",
       "    .dataframe tbody tr th {\n",
       "        vertical-align: top;\n",
       "    }\n",
       "\n",
       "    .dataframe thead th {\n",
       "        text-align: right;\n",
       "    }\n",
       "</style>\n",
       "<table border=\"1\" class=\"dataframe\">\n",
       "  <thead>\n",
       "    <tr style=\"text-align: right;\">\n",
       "      <th></th>\n",
       "      <th>Price</th>\n",
       "      <th>Age_08_04</th>\n",
       "      <th>KM</th>\n",
       "      <th>HP</th>\n",
       "      <th>Automatic</th>\n",
       "      <th>cc</th>\n",
       "      <th>Doors</th>\n",
       "      <th>Cylinders</th>\n",
       "      <th>Gears</th>\n",
       "      <th>Weight</th>\n",
       "    </tr>\n",
       "  </thead>\n",
       "  <tbody>\n",
       "    <tr>\n",
       "      <th>count</th>\n",
       "      <td>1436.000000</td>\n",
       "      <td>1436.000000</td>\n",
       "      <td>1436.000000</td>\n",
       "      <td>1436.000000</td>\n",
       "      <td>1436.000000</td>\n",
       "      <td>1436.00000</td>\n",
       "      <td>1436.000000</td>\n",
       "      <td>1436.0</td>\n",
       "      <td>1436.000000</td>\n",
       "      <td>1436.00000</td>\n",
       "    </tr>\n",
       "    <tr>\n",
       "      <th>mean</th>\n",
       "      <td>10730.824513</td>\n",
       "      <td>55.947075</td>\n",
       "      <td>68533.259749</td>\n",
       "      <td>101.502089</td>\n",
       "      <td>0.055710</td>\n",
       "      <td>1576.85585</td>\n",
       "      <td>4.033426</td>\n",
       "      <td>4.0</td>\n",
       "      <td>5.026462</td>\n",
       "      <td>1072.45961</td>\n",
       "    </tr>\n",
       "    <tr>\n",
       "      <th>std</th>\n",
       "      <td>3626.964585</td>\n",
       "      <td>18.599988</td>\n",
       "      <td>37506.448872</td>\n",
       "      <td>14.981080</td>\n",
       "      <td>0.229441</td>\n",
       "      <td>424.38677</td>\n",
       "      <td>0.952677</td>\n",
       "      <td>0.0</td>\n",
       "      <td>0.188510</td>\n",
       "      <td>52.64112</td>\n",
       "    </tr>\n",
       "    <tr>\n",
       "      <th>min</th>\n",
       "      <td>4350.000000</td>\n",
       "      <td>1.000000</td>\n",
       "      <td>1.000000</td>\n",
       "      <td>69.000000</td>\n",
       "      <td>0.000000</td>\n",
       "      <td>1300.00000</td>\n",
       "      <td>2.000000</td>\n",
       "      <td>4.0</td>\n",
       "      <td>3.000000</td>\n",
       "      <td>1000.00000</td>\n",
       "    </tr>\n",
       "    <tr>\n",
       "      <th>25%</th>\n",
       "      <td>8450.000000</td>\n",
       "      <td>44.000000</td>\n",
       "      <td>43000.000000</td>\n",
       "      <td>90.000000</td>\n",
       "      <td>0.000000</td>\n",
       "      <td>1400.00000</td>\n",
       "      <td>3.000000</td>\n",
       "      <td>4.0</td>\n",
       "      <td>5.000000</td>\n",
       "      <td>1040.00000</td>\n",
       "    </tr>\n",
       "    <tr>\n",
       "      <th>50%</th>\n",
       "      <td>9900.000000</td>\n",
       "      <td>61.000000</td>\n",
       "      <td>63389.500000</td>\n",
       "      <td>110.000000</td>\n",
       "      <td>0.000000</td>\n",
       "      <td>1600.00000</td>\n",
       "      <td>4.000000</td>\n",
       "      <td>4.0</td>\n",
       "      <td>5.000000</td>\n",
       "      <td>1070.00000</td>\n",
       "    </tr>\n",
       "    <tr>\n",
       "      <th>75%</th>\n",
       "      <td>11950.000000</td>\n",
       "      <td>70.000000</td>\n",
       "      <td>87020.750000</td>\n",
       "      <td>110.000000</td>\n",
       "      <td>0.000000</td>\n",
       "      <td>1600.00000</td>\n",
       "      <td>5.000000</td>\n",
       "      <td>4.0</td>\n",
       "      <td>5.000000</td>\n",
       "      <td>1085.00000</td>\n",
       "    </tr>\n",
       "    <tr>\n",
       "      <th>max</th>\n",
       "      <td>32500.000000</td>\n",
       "      <td>80.000000</td>\n",
       "      <td>243000.000000</td>\n",
       "      <td>192.000000</td>\n",
       "      <td>1.000000</td>\n",
       "      <td>16000.00000</td>\n",
       "      <td>5.000000</td>\n",
       "      <td>4.0</td>\n",
       "      <td>6.000000</td>\n",
       "      <td>1615.00000</td>\n",
       "    </tr>\n",
       "  </tbody>\n",
       "</table>\n",
       "</div>"
      ],
      "text/plain": [
       "              Price    Age_08_04             KM           HP    Automatic  \\\n",
       "count   1436.000000  1436.000000    1436.000000  1436.000000  1436.000000   \n",
       "mean   10730.824513    55.947075   68533.259749   101.502089     0.055710   \n",
       "std     3626.964585    18.599988   37506.448872    14.981080     0.229441   \n",
       "min     4350.000000     1.000000       1.000000    69.000000     0.000000   \n",
       "25%     8450.000000    44.000000   43000.000000    90.000000     0.000000   \n",
       "50%     9900.000000    61.000000   63389.500000   110.000000     0.000000   \n",
       "75%    11950.000000    70.000000   87020.750000   110.000000     0.000000   \n",
       "max    32500.000000    80.000000  243000.000000   192.000000     1.000000   \n",
       "\n",
       "                cc        Doors  Cylinders        Gears      Weight  \n",
       "count   1436.00000  1436.000000     1436.0  1436.000000  1436.00000  \n",
       "mean    1576.85585     4.033426        4.0     5.026462  1072.45961  \n",
       "std      424.38677     0.952677        0.0     0.188510    52.64112  \n",
       "min     1300.00000     2.000000        4.0     3.000000  1000.00000  \n",
       "25%     1400.00000     3.000000        4.0     5.000000  1040.00000  \n",
       "50%     1600.00000     4.000000        4.0     5.000000  1070.00000  \n",
       "75%     1600.00000     5.000000        4.0     5.000000  1085.00000  \n",
       "max    16000.00000     5.000000        4.0     6.000000  1615.00000  "
      ]
     },
     "execution_count": 5,
     "metadata": {},
     "output_type": "execute_result"
    }
   ],
   "source": [
    "df.describe()"
   ]
  },
  {
   "cell_type": "code",
   "execution_count": 6,
   "id": "76d2e817",
   "metadata": {},
   "outputs": [],
   "source": [
    "d1={\"Age_08_04\":\"age\",\n",
    "   \"cc\":\"cylinVolume\"}"
   ]
  },
  {
   "cell_type": "code",
   "execution_count": 7,
   "id": "27204ead",
   "metadata": {},
   "outputs": [],
   "source": [
    "df.rename(columns=d1,inplace = True)"
   ]
  },
  {
   "cell_type": "code",
   "execution_count": 8,
   "id": "4c274b09",
   "metadata": {},
   "outputs": [
    {
     "data": {
      "text/html": [
       "<div>\n",
       "<style scoped>\n",
       "    .dataframe tbody tr th:only-of-type {\n",
       "        vertical-align: middle;\n",
       "    }\n",
       "\n",
       "    .dataframe tbody tr th {\n",
       "        vertical-align: top;\n",
       "    }\n",
       "\n",
       "    .dataframe thead th {\n",
       "        text-align: right;\n",
       "    }\n",
       "</style>\n",
       "<table border=\"1\" class=\"dataframe\">\n",
       "  <thead>\n",
       "    <tr style=\"text-align: right;\">\n",
       "      <th></th>\n",
       "      <th>Price</th>\n",
       "      <th>age</th>\n",
       "      <th>KM</th>\n",
       "      <th>Fuel_Type</th>\n",
       "      <th>HP</th>\n",
       "      <th>Automatic</th>\n",
       "      <th>cylinVolume</th>\n",
       "      <th>Doors</th>\n",
       "      <th>Cylinders</th>\n",
       "      <th>Gears</th>\n",
       "      <th>Weight</th>\n",
       "    </tr>\n",
       "  </thead>\n",
       "  <tbody>\n",
       "    <tr>\n",
       "      <th>0</th>\n",
       "      <td>13500</td>\n",
       "      <td>23</td>\n",
       "      <td>46986</td>\n",
       "      <td>Diesel</td>\n",
       "      <td>90</td>\n",
       "      <td>0</td>\n",
       "      <td>2000</td>\n",
       "      <td>3</td>\n",
       "      <td>4</td>\n",
       "      <td>5</td>\n",
       "      <td>1165</td>\n",
       "    </tr>\n",
       "    <tr>\n",
       "      <th>1</th>\n",
       "      <td>13750</td>\n",
       "      <td>23</td>\n",
       "      <td>72937</td>\n",
       "      <td>Diesel</td>\n",
       "      <td>90</td>\n",
       "      <td>0</td>\n",
       "      <td>2000</td>\n",
       "      <td>3</td>\n",
       "      <td>4</td>\n",
       "      <td>5</td>\n",
       "      <td>1165</td>\n",
       "    </tr>\n",
       "    <tr>\n",
       "      <th>2</th>\n",
       "      <td>13950</td>\n",
       "      <td>24</td>\n",
       "      <td>41711</td>\n",
       "      <td>Diesel</td>\n",
       "      <td>90</td>\n",
       "      <td>0</td>\n",
       "      <td>2000</td>\n",
       "      <td>3</td>\n",
       "      <td>4</td>\n",
       "      <td>5</td>\n",
       "      <td>1165</td>\n",
       "    </tr>\n",
       "    <tr>\n",
       "      <th>3</th>\n",
       "      <td>14950</td>\n",
       "      <td>26</td>\n",
       "      <td>48000</td>\n",
       "      <td>Diesel</td>\n",
       "      <td>90</td>\n",
       "      <td>0</td>\n",
       "      <td>2000</td>\n",
       "      <td>3</td>\n",
       "      <td>4</td>\n",
       "      <td>5</td>\n",
       "      <td>1165</td>\n",
       "    </tr>\n",
       "    <tr>\n",
       "      <th>4</th>\n",
       "      <td>13750</td>\n",
       "      <td>30</td>\n",
       "      <td>38500</td>\n",
       "      <td>Diesel</td>\n",
       "      <td>90</td>\n",
       "      <td>0</td>\n",
       "      <td>2000</td>\n",
       "      <td>3</td>\n",
       "      <td>4</td>\n",
       "      <td>5</td>\n",
       "      <td>1170</td>\n",
       "    </tr>\n",
       "    <tr>\n",
       "      <th>...</th>\n",
       "      <td>...</td>\n",
       "      <td>...</td>\n",
       "      <td>...</td>\n",
       "      <td>...</td>\n",
       "      <td>...</td>\n",
       "      <td>...</td>\n",
       "      <td>...</td>\n",
       "      <td>...</td>\n",
       "      <td>...</td>\n",
       "      <td>...</td>\n",
       "      <td>...</td>\n",
       "    </tr>\n",
       "    <tr>\n",
       "      <th>1431</th>\n",
       "      <td>7500</td>\n",
       "      <td>69</td>\n",
       "      <td>20544</td>\n",
       "      <td>Petrol</td>\n",
       "      <td>86</td>\n",
       "      <td>0</td>\n",
       "      <td>1300</td>\n",
       "      <td>3</td>\n",
       "      <td>4</td>\n",
       "      <td>5</td>\n",
       "      <td>1025</td>\n",
       "    </tr>\n",
       "    <tr>\n",
       "      <th>1432</th>\n",
       "      <td>10845</td>\n",
       "      <td>72</td>\n",
       "      <td>19000</td>\n",
       "      <td>Petrol</td>\n",
       "      <td>86</td>\n",
       "      <td>0</td>\n",
       "      <td>1300</td>\n",
       "      <td>3</td>\n",
       "      <td>4</td>\n",
       "      <td>5</td>\n",
       "      <td>1015</td>\n",
       "    </tr>\n",
       "    <tr>\n",
       "      <th>1433</th>\n",
       "      <td>8500</td>\n",
       "      <td>71</td>\n",
       "      <td>17016</td>\n",
       "      <td>Petrol</td>\n",
       "      <td>86</td>\n",
       "      <td>0</td>\n",
       "      <td>1300</td>\n",
       "      <td>3</td>\n",
       "      <td>4</td>\n",
       "      <td>5</td>\n",
       "      <td>1015</td>\n",
       "    </tr>\n",
       "    <tr>\n",
       "      <th>1434</th>\n",
       "      <td>7250</td>\n",
       "      <td>70</td>\n",
       "      <td>16916</td>\n",
       "      <td>Petrol</td>\n",
       "      <td>86</td>\n",
       "      <td>0</td>\n",
       "      <td>1300</td>\n",
       "      <td>3</td>\n",
       "      <td>4</td>\n",
       "      <td>5</td>\n",
       "      <td>1015</td>\n",
       "    </tr>\n",
       "    <tr>\n",
       "      <th>1435</th>\n",
       "      <td>6950</td>\n",
       "      <td>76</td>\n",
       "      <td>1</td>\n",
       "      <td>Petrol</td>\n",
       "      <td>110</td>\n",
       "      <td>0</td>\n",
       "      <td>1600</td>\n",
       "      <td>5</td>\n",
       "      <td>4</td>\n",
       "      <td>5</td>\n",
       "      <td>1114</td>\n",
       "    </tr>\n",
       "  </tbody>\n",
       "</table>\n",
       "<p>1436 rows × 11 columns</p>\n",
       "</div>"
      ],
      "text/plain": [
       "      Price  age     KM Fuel_Type   HP  Automatic  cylinVolume  Doors  \\\n",
       "0     13500   23  46986    Diesel   90          0         2000      3   \n",
       "1     13750   23  72937    Diesel   90          0         2000      3   \n",
       "2     13950   24  41711    Diesel   90          0         2000      3   \n",
       "3     14950   26  48000    Diesel   90          0         2000      3   \n",
       "4     13750   30  38500    Diesel   90          0         2000      3   \n",
       "...     ...  ...    ...       ...  ...        ...          ...    ...   \n",
       "1431   7500   69  20544    Petrol   86          0         1300      3   \n",
       "1432  10845   72  19000    Petrol   86          0         1300      3   \n",
       "1433   8500   71  17016    Petrol   86          0         1300      3   \n",
       "1434   7250   70  16916    Petrol   86          0         1300      3   \n",
       "1435   6950   76      1    Petrol  110          0         1600      5   \n",
       "\n",
       "      Cylinders  Gears  Weight  \n",
       "0             4      5    1165  \n",
       "1             4      5    1165  \n",
       "2             4      5    1165  \n",
       "3             4      5    1165  \n",
       "4             4      5    1170  \n",
       "...         ...    ...     ...  \n",
       "1431          4      5    1025  \n",
       "1432          4      5    1015  \n",
       "1433          4      5    1015  \n",
       "1434          4      5    1015  \n",
       "1435          4      5    1114  \n",
       "\n",
       "[1436 rows x 11 columns]"
      ]
     },
     "execution_count": 8,
     "metadata": {},
     "output_type": "execute_result"
    }
   ],
   "source": [
    "df"
   ]
  },
  {
   "cell_type": "code",
   "execution_count": 9,
   "id": "0216cfd9",
   "metadata": {},
   "outputs": [
    {
     "data": {
      "text/plain": [
       "Price          0\n",
       "age            0\n",
       "KM             0\n",
       "Fuel_Type      0\n",
       "HP             0\n",
       "Automatic      0\n",
       "cylinVolume    0\n",
       "Doors          0\n",
       "Cylinders      0\n",
       "Gears          0\n",
       "Weight         0\n",
       "dtype: int64"
      ]
     },
     "execution_count": 9,
     "metadata": {},
     "output_type": "execute_result"
    }
   ],
   "source": [
    "df.isnull().sum() #there are no null values"
   ]
  },
  {
   "cell_type": "code",
   "execution_count": 10,
   "id": "8d07c5e4",
   "metadata": {},
   "outputs": [
    {
     "name": "stdout",
     "output_type": "stream",
     "text": [
      "<class 'pandas.core.frame.DataFrame'>\n",
      "RangeIndex: 1436 entries, 0 to 1435\n",
      "Data columns (total 11 columns):\n",
      " #   Column       Non-Null Count  Dtype \n",
      "---  ------       --------------  ----- \n",
      " 0   Price        1436 non-null   int64 \n",
      " 1   age          1436 non-null   int64 \n",
      " 2   KM           1436 non-null   int64 \n",
      " 3   Fuel_Type    1436 non-null   object\n",
      " 4   HP           1436 non-null   int64 \n",
      " 5   Automatic    1436 non-null   int64 \n",
      " 6   cylinVolume  1436 non-null   int64 \n",
      " 7   Doors        1436 non-null   int64 \n",
      " 8   Cylinders    1436 non-null   int64 \n",
      " 9   Gears        1436 non-null   int64 \n",
      " 10  Weight       1436 non-null   int64 \n",
      "dtypes: int64(10), object(1)\n",
      "memory usage: 123.5+ KB\n"
     ]
    }
   ],
   "source": [
    "df.info()"
   ]
  },
  {
   "cell_type": "code",
   "execution_count": 11,
   "id": "a8bba707",
   "metadata": {},
   "outputs": [],
   "source": [
    "price=pd.DataFrame(df[\"Price\"])"
   ]
  },
  {
   "cell_type": "code",
   "execution_count": 12,
   "id": "aa73ae2c",
   "metadata": {},
   "outputs": [],
   "source": [
    "age=pd.DataFrame(df[\"age\"])"
   ]
  },
  {
   "cell_type": "code",
   "execution_count": 13,
   "id": "406b24fa",
   "metadata": {},
   "outputs": [],
   "source": [
    "km=pd.DataFrame(df[\"KM\"])"
   ]
  },
  {
   "cell_type": "code",
   "execution_count": 14,
   "id": "20a55818",
   "metadata": {},
   "outputs": [],
   "source": [
    "hp=pd.DataFrame(df[\"HP\"])"
   ]
  },
  {
   "cell_type": "code",
   "execution_count": 15,
   "id": "0d40daf0",
   "metadata": {},
   "outputs": [],
   "source": [
    "auto=pd.DataFrame(df[\"Automatic\"])"
   ]
  },
  {
   "cell_type": "code",
   "execution_count": 16,
   "id": "217bea00",
   "metadata": {},
   "outputs": [],
   "source": [
    "cyvolume=pd.DataFrame(df[\"cylinVolume\"])"
   ]
  },
  {
   "cell_type": "code",
   "execution_count": 17,
   "id": "562a9a2d",
   "metadata": {},
   "outputs": [],
   "source": [
    "doors=pd.DataFrame(df[\"Doors\"])"
   ]
  },
  {
   "cell_type": "code",
   "execution_count": 18,
   "id": "7a6f9725",
   "metadata": {},
   "outputs": [],
   "source": [
    "cylinder=pd.DataFrame(df[\"Cylinders\"])"
   ]
  },
  {
   "cell_type": "code",
   "execution_count": 19,
   "id": "f0afdb24",
   "metadata": {},
   "outputs": [],
   "source": [
    "gear=pd.DataFrame(df[\"Gears\"])"
   ]
  },
  {
   "cell_type": "code",
   "execution_count": 20,
   "id": "692798f8",
   "metadata": {},
   "outputs": [],
   "source": [
    "wt=pd.DataFrame(df[\"Weight\"])"
   ]
  },
  {
   "cell_type": "code",
   "execution_count": 21,
   "id": "3206a9d8",
   "metadata": {},
   "outputs": [],
   "source": [
    "df_1=pd.concat([price,age],axis=1)"
   ]
  },
  {
   "cell_type": "code",
   "execution_count": 22,
   "id": "8e3813f3",
   "metadata": {},
   "outputs": [
    {
     "data": {
      "image/png": "[encoded data removed]",
      "text/plain": [
       "<Figure size 640x480 with 1 Axes>"
      ]
     },
     "metadata": {},
     "output_type": "display_data"
    }
   ],
   "source": [
    "plt.scatter(price,age,color=\"red\")\n",
    "plt.show()"
   ]
  },
  {
   "cell_type": "code",
   "execution_count": 23,
   "id": "808fc586",
   "metadata": {},
   "outputs": [
    {
     "data": {
      "text/html": [
       "<div>\n",
       "<style scoped>\n",
       "    .dataframe tbody tr th:only-of-type {\n",
       "        vertical-align: middle;\n",
       "    }\n",
       "\n",
       "    .dataframe tbody tr th {\n",
       "        vertical-align: top;\n",
       "    }\n",
       "\n",
       "    .dataframe thead th {\n",
       "        text-align: right;\n",
       "    }\n",
       "</style>\n",
       "<table border=\"1\" class=\"dataframe\">\n",
       "  <thead>\n",
       "    <tr style=\"text-align: right;\">\n",
       "      <th></th>\n",
       "      <th>Price</th>\n",
       "      <th>age</th>\n",
       "    </tr>\n",
       "  </thead>\n",
       "  <tbody>\n",
       "    <tr>\n",
       "      <th>Price</th>\n",
       "      <td>1.00000</td>\n",
       "      <td>-0.87659</td>\n",
       "    </tr>\n",
       "    <tr>\n",
       "      <th>age</th>\n",
       "      <td>-0.87659</td>\n",
       "      <td>1.00000</td>\n",
       "    </tr>\n",
       "  </tbody>\n",
       "</table>\n",
       "</div>"
      ],
      "text/plain": [
       "         Price      age\n",
       "Price  1.00000 -0.87659\n",
       "age   -0.87659  1.00000"
      ]
     },
     "execution_count": 23,
     "metadata": {},
     "output_type": "execute_result"
    }
   ],
   "source": [
    "df_1.corr()"
   ]
  },
  {
   "cell_type": "markdown",
   "id": "63783265",
   "metadata": {},
   "source": [
    "there seems to be a very strong correlation between price and age of the car,we'll find out about the others and plot the scatter plot after standardizing the data as well."
   ]
  },
  {
   "cell_type": "code",
   "execution_count": 24,
   "id": "188997f1",
   "metadata": {},
   "outputs": [],
   "source": [
    "df_2=pd.concat([price,km],axis=1)"
   ]
  },
  {
   "cell_type": "code",
   "execution_count": 25,
   "id": "5beca1db",
   "metadata": {},
   "outputs": [
    {
     "data": {
      "image/png": "[encoded data removed]",
      "text/plain": [
       "<Figure size 640x480 with 1 Axes>"
      ]
     },
     "metadata": {},
     "output_type": "display_data"
    }
   ],
   "source": [
    "plt.scatter(price,km,color=\"green\")\n",
    "plt.show()"
   ]
  },
  {
   "cell_type": "code",
   "execution_count": 26,
   "id": "a996262e",
   "metadata": {},
   "outputs": [
    {
     "data": {
      "text/html": [
       "<div>\n",
       "<style scoped>\n",
       "    .dataframe tbody tr th:only-of-type {\n",
       "        vertical-align: middle;\n",
       "    }\n",
       "\n",
       "    .dataframe tbody tr th {\n",
       "        vertical-align: top;\n",
       "    }\n",
       "\n",
       "    .dataframe thead th {\n",
       "        text-align: right;\n",
       "    }\n",
       "</style>\n",
       "<table border=\"1\" class=\"dataframe\">\n",
       "  <thead>\n",
       "    <tr style=\"text-align: right;\">\n",
       "      <th></th>\n",
       "      <th>Price</th>\n",
       "      <th>KM</th>\n",
       "    </tr>\n",
       "  </thead>\n",
       "  <tbody>\n",
       "    <tr>\n",
       "      <th>Price</th>\n",
       "      <td>1.00000</td>\n",
       "      <td>-0.56996</td>\n",
       "    </tr>\n",
       "    <tr>\n",
       "      <th>KM</th>\n",
       "      <td>-0.56996</td>\n",
       "      <td>1.00000</td>\n",
       "    </tr>\n",
       "  </tbody>\n",
       "</table>\n",
       "</div>"
      ],
      "text/plain": [
       "         Price       KM\n",
       "Price  1.00000 -0.56996\n",
       "KM    -0.56996  1.00000"
      ]
     },
     "execution_count": 26,
     "metadata": {},
     "output_type": "execute_result"
    }
   ],
   "source": [
    "df_2.corr()"
   ]
  },
  {
   "cell_type": "code",
   "execution_count": 27,
   "id": "aed8d7a5",
   "metadata": {},
   "outputs": [],
   "source": [
    "#there is a very weak negative correlation between price and km ,but we'll see the relation after standardizing the data "
   ]
  },
  {
   "cell_type": "code",
   "execution_count": 28,
   "id": "7c68e849",
   "metadata": {},
   "outputs": [],
   "source": [
    "df_3=pd.concat([price,hp],axis=1)"
   ]
  },
  {
   "cell_type": "code",
   "execution_count": 29,
   "id": "c67da3e2",
   "metadata": {},
   "outputs": [
    {
     "data": {
      "image/png": "[encoded data removed]",
      "text/plain": [
       "<Figure size 640x480 with 1 Axes>"
      ]
     },
     "metadata": {},
     "output_type": "display_data"
    }
   ],
   "source": [
    "plt.scatter(price,hp,color=\"yellow\")\n",
    "plt.show()"
   ]
  },
  {
   "cell_type": "code",
   "execution_count": 30,
   "id": "65723b73",
   "metadata": {},
   "outputs": [
    {
     "data": {
      "text/html": [
       "<div>\n",
       "<style scoped>\n",
       "    .dataframe tbody tr th:only-of-type {\n",
       "        vertical-align: middle;\n",
       "    }\n",
       "\n",
       "    .dataframe tbody tr th {\n",
       "        vertical-align: top;\n",
       "    }\n",
       "\n",
       "    .dataframe thead th {\n",
       "        text-align: right;\n",
       "    }\n",
       "</style>\n",
       "<table border=\"1\" class=\"dataframe\">\n",
       "  <thead>\n",
       "    <tr style=\"text-align: right;\">\n",
       "      <th></th>\n",
       "      <th>Price</th>\n",
       "      <th>HP</th>\n",
       "    </tr>\n",
       "  </thead>\n",
       "  <tbody>\n",
       "    <tr>\n",
       "      <th>Price</th>\n",
       "      <td>1.00000</td>\n",
       "      <td>0.31499</td>\n",
       "    </tr>\n",
       "    <tr>\n",
       "      <th>HP</th>\n",
       "      <td>0.31499</td>\n",
       "      <td>1.00000</td>\n",
       "    </tr>\n",
       "  </tbody>\n",
       "</table>\n",
       "</div>"
      ],
      "text/plain": [
       "         Price       HP\n",
       "Price  1.00000  0.31499\n",
       "HP     0.31499  1.00000"
      ]
     },
     "execution_count": 30,
     "metadata": {},
     "output_type": "execute_result"
    }
   ],
   "source": [
    "df_3.corr()"
   ]
  },
  {
   "cell_type": "code",
   "execution_count": 31,
   "id": "104c61e1",
   "metadata": {},
   "outputs": [],
   "source": [
    "#even here there is a very weak correlation between price and HP"
   ]
  },
  {
   "cell_type": "code",
   "execution_count": 32,
   "id": "2aee8be8",
   "metadata": {},
   "outputs": [],
   "source": [
    "df_4=pd.concat([price,auto],axis=1)"
   ]
  },
  {
   "cell_type": "code",
   "execution_count": 33,
   "id": "4a560028",
   "metadata": {},
   "outputs": [
    {
     "data": {
      "image/png": "[encoded data removed]",
      "text/plain": [
       "<Figure size 640x480 with 1 Axes>"
      ]
     },
     "metadata": {},
     "output_type": "display_data"
    }
   ],
   "source": [
    "plt.scatter(price,auto,color=\"black\")\n",
    "plt.show()"
   ]
  },
  {
   "cell_type": "code",
   "execution_count": 34,
   "id": "abceae54",
   "metadata": {},
   "outputs": [
    {
     "data": {
      "text/html": [
       "<div>\n",
       "<style scoped>\n",
       "    .dataframe tbody tr th:only-of-type {\n",
       "        vertical-align: middle;\n",
       "    }\n",
       "\n",
       "    .dataframe tbody tr th {\n",
       "        vertical-align: top;\n",
       "    }\n",
       "\n",
       "    .dataframe thead th {\n",
       "        text-align: right;\n",
       "    }\n",
       "</style>\n",
       "<table border=\"1\" class=\"dataframe\">\n",
       "  <thead>\n",
       "    <tr style=\"text-align: right;\">\n",
       "      <th></th>\n",
       "      <th>Price</th>\n",
       "      <th>Automatic</th>\n",
       "    </tr>\n",
       "  </thead>\n",
       "  <tbody>\n",
       "    <tr>\n",
       "      <th>Price</th>\n",
       "      <td>1.000000</td>\n",
       "      <td>0.033081</td>\n",
       "    </tr>\n",
       "    <tr>\n",
       "      <th>Automatic</th>\n",
       "      <td>0.033081</td>\n",
       "      <td>1.000000</td>\n",
       "    </tr>\n",
       "  </tbody>\n",
       "</table>\n",
       "</div>"
      ],
      "text/plain": [
       "              Price  Automatic\n",
       "Price      1.000000   0.033081\n",
       "Automatic  0.033081   1.000000"
      ]
     },
     "execution_count": 34,
     "metadata": {},
     "output_type": "execute_result"
    }
   ],
   "source": [
    "df_4.corr()"
   ]
  },
  {
   "cell_type": "code",
   "execution_count": 35,
   "id": "70e2ea02",
   "metadata": {},
   "outputs": [],
   "source": [
    "#there is almost no relation here between the price and automatic vehicle"
   ]
  },
  {
   "cell_type": "code",
   "execution_count": 36,
   "id": "4a8f579e",
   "metadata": {},
   "outputs": [],
   "source": [
    "df_5=pd.concat([price,cyvolume],axis=1)"
   ]
  },
  {
   "cell_type": "code",
   "execution_count": 37,
   "id": "c897d3ad",
   "metadata": {},
   "outputs": [
    {
     "data": {
      "image/png": "[encoded data removed]",
      "text/plain": [
       "<Figure size 640x480 with 1 Axes>"
      ]
     },
     "metadata": {},
     "output_type": "display_data"
    }
   ],
   "source": [
    "plt.scatter(price,cyvolume,color=\"blue\")\n",
    "plt.show()"
   ]
  },
  {
   "cell_type": "code",
   "execution_count": 38,
   "id": "cfa096f5",
   "metadata": {},
   "outputs": [
    {
     "data": {
      "text/html": [
       "<div>\n",
       "<style scoped>\n",
       "    .dataframe tbody tr th:only-of-type {\n",
       "        vertical-align: middle;\n",
       "    }\n",
       "\n",
       "    .dataframe tbody tr th {\n",
       "        vertical-align: top;\n",
       "    }\n",
       "\n",
       "    .dataframe thead th {\n",
       "        text-align: right;\n",
       "    }\n",
       "</style>\n",
       "<table border=\"1\" class=\"dataframe\">\n",
       "  <thead>\n",
       "    <tr style=\"text-align: right;\">\n",
       "      <th></th>\n",
       "      <th>Price</th>\n",
       "      <th>cylinVolume</th>\n",
       "    </tr>\n",
       "  </thead>\n",
       "  <tbody>\n",
       "    <tr>\n",
       "      <th>Price</th>\n",
       "      <td>1.000000</td>\n",
       "      <td>0.126389</td>\n",
       "    </tr>\n",
       "    <tr>\n",
       "      <th>cylinVolume</th>\n",
       "      <td>0.126389</td>\n",
       "      <td>1.000000</td>\n",
       "    </tr>\n",
       "  </tbody>\n",
       "</table>\n",
       "</div>"
      ],
      "text/plain": [
       "                Price  cylinVolume\n",
       "Price        1.000000     0.126389\n",
       "cylinVolume  0.126389     1.000000"
      ]
     },
     "execution_count": 38,
     "metadata": {},
     "output_type": "execute_result"
    }
   ],
   "source": [
    "df_5.corr()"
   ]
  },
  {
   "cell_type": "code",
   "execution_count": 39,
   "id": "77911ebf",
   "metadata": {},
   "outputs": [],
   "source": [
    "# even here there seems to be no relation at all between the volume of the cylinder and the price of the car"
   ]
  },
  {
   "cell_type": "code",
   "execution_count": 40,
   "id": "3d14fdb2",
   "metadata": {},
   "outputs": [],
   "source": [
    "df_6=pd.concat([price,gear],axis=1)"
   ]
  },
  {
   "cell_type": "code",
   "execution_count": 41,
   "id": "813ac710",
   "metadata": {},
   "outputs": [
    {
     "data": {
      "image/png": "[encoded data removed]",
      "text/plain": [
       "<Figure size 640x480 with 1 Axes>"
      ]
     },
     "metadata": {},
     "output_type": "display_data"
    }
   ],
   "source": [
    "plt.scatter(price,gear,color=\"purple\")\n",
    "plt.show()"
   ]
  },
  {
   "cell_type": "code",
   "execution_count": 42,
   "id": "2bf17870",
   "metadata": {},
   "outputs": [
    {
     "data": {
      "text/html": [
       "<div>\n",
       "<style scoped>\n",
       "    .dataframe tbody tr th:only-of-type {\n",
       "        vertical-align: middle;\n",
       "    }\n",
       "\n",
       "    .dataframe tbody tr th {\n",
       "        vertical-align: top;\n",
       "    }\n",
       "\n",
       "    .dataframe thead th {\n",
       "        text-align: right;\n",
       "    }\n",
       "</style>\n",
       "<table border=\"1\" class=\"dataframe\">\n",
       "  <thead>\n",
       "    <tr style=\"text-align: right;\">\n",
       "      <th></th>\n",
       "      <th>Price</th>\n",
       "      <th>Gears</th>\n",
       "    </tr>\n",
       "  </thead>\n",
       "  <tbody>\n",
       "    <tr>\n",
       "      <th>Price</th>\n",
       "      <td>1.000000</td>\n",
       "      <td>0.063104</td>\n",
       "    </tr>\n",
       "    <tr>\n",
       "      <th>Gears</th>\n",
       "      <td>0.063104</td>\n",
       "      <td>1.000000</td>\n",
       "    </tr>\n",
       "  </tbody>\n",
       "</table>\n",
       "</div>"
      ],
      "text/plain": [
       "          Price     Gears\n",
       "Price  1.000000  0.063104\n",
       "Gears  0.063104  1.000000"
      ]
     },
     "execution_count": 42,
     "metadata": {},
     "output_type": "execute_result"
    }
   ],
   "source": [
    "df_6.corr()"
   ]
  },
  {
   "cell_type": "code",
   "execution_count": 43,
   "id": "61979a1f",
   "metadata": {},
   "outputs": [],
   "source": [
    "#even here there is no relation"
   ]
  },
  {
   "cell_type": "code",
   "execution_count": 44,
   "id": "db5be7c7",
   "metadata": {},
   "outputs": [],
   "source": [
    "df_7=pd.concat([price,doors],axis=1)"
   ]
  },
  {
   "cell_type": "code",
   "execution_count": 45,
   "id": "64ca0cc6",
   "metadata": {},
   "outputs": [
    {
     "data": {
      "image/png": "[encoded data removed]",
      "text/plain": [
       "<Figure size 640x480 with 1 Axes>"
      ]
     },
     "metadata": {},
     "output_type": "display_data"
    }
   ],
   "source": [
    "plt.scatter(price,doors,color=\"orange\")\n",
    "plt.show()"
   ]
  },
  {
   "cell_type": "code",
   "execution_count": 46,
   "id": "46181797",
   "metadata": {},
   "outputs": [
    {
     "data": {
      "text/html": [
       "<div>\n",
       "<style scoped>\n",
       "    .dataframe tbody tr th:only-of-type {\n",
       "        vertical-align: middle;\n",
       "    }\n",
       "\n",
       "    .dataframe tbody tr th {\n",
       "        vertical-align: top;\n",
       "    }\n",
       "\n",
       "    .dataframe thead th {\n",
       "        text-align: right;\n",
       "    }\n",
       "</style>\n",
       "<table border=\"1\" class=\"dataframe\">\n",
       "  <thead>\n",
       "    <tr style=\"text-align: right;\">\n",
       "      <th></th>\n",
       "      <th>Price</th>\n",
       "      <th>Doors</th>\n",
       "    </tr>\n",
       "  </thead>\n",
       "  <tbody>\n",
       "    <tr>\n",
       "      <th>Price</th>\n",
       "      <td>1.000000</td>\n",
       "      <td>0.185326</td>\n",
       "    </tr>\n",
       "    <tr>\n",
       "      <th>Doors</th>\n",
       "      <td>0.185326</td>\n",
       "      <td>1.000000</td>\n",
       "    </tr>\n",
       "  </tbody>\n",
       "</table>\n",
       "</div>"
      ],
      "text/plain": [
       "          Price     Doors\n",
       "Price  1.000000  0.185326\n",
       "Doors  0.185326  1.000000"
      ]
     },
     "execution_count": 46,
     "metadata": {},
     "output_type": "execute_result"
    }
   ],
   "source": [
    "df_7.corr()"
   ]
  },
  {
   "cell_type": "code",
   "execution_count": 47,
   "id": "437c5bfe",
   "metadata": {},
   "outputs": [],
   "source": [
    "#no relation seems to be found"
   ]
  },
  {
   "cell_type": "code",
   "execution_count": 48,
   "id": "71f556fd",
   "metadata": {},
   "outputs": [],
   "source": [
    "df_8=pd.concat([price,wt],axis=1)"
   ]
  },
  {
   "cell_type": "code",
   "execution_count": 49,
   "id": "4b52123c",
   "metadata": {},
   "outputs": [
    {
     "data": {
      "image/png": "[encoded data removed]",
      "text/plain": [
       "<Figure size 640x480 with 1 Axes>"
      ]
     },
     "metadata": {},
     "output_type": "display_data"
    }
   ],
   "source": [
    "plt.scatter(price,wt,color=\"pink\")\n",
    "plt.show()"
   ]
  },
  {
   "cell_type": "code",
   "execution_count": 50,
   "id": "3d545386",
   "metadata": {},
   "outputs": [
    {
     "data": {
      "text/html": [
       "<div>\n",
       "<style scoped>\n",
       "    .dataframe tbody tr th:only-of-type {\n",
       "        vertical-align: middle;\n",
       "    }\n",
       "\n",
       "    .dataframe tbody tr th {\n",
       "        vertical-align: top;\n",
       "    }\n",
       "\n",
       "    .dataframe thead th {\n",
       "        text-align: right;\n",
       "    }\n",
       "</style>\n",
       "<table border=\"1\" class=\"dataframe\">\n",
       "  <thead>\n",
       "    <tr style=\"text-align: right;\">\n",
       "      <th></th>\n",
       "      <th>Price</th>\n",
       "      <th>Weight</th>\n",
       "    </tr>\n",
       "  </thead>\n",
       "  <tbody>\n",
       "    <tr>\n",
       "      <th>Price</th>\n",
       "      <td>1.000000</td>\n",
       "      <td>0.581198</td>\n",
       "    </tr>\n",
       "    <tr>\n",
       "      <th>Weight</th>\n",
       "      <td>0.581198</td>\n",
       "      <td>1.000000</td>\n",
       "    </tr>\n",
       "  </tbody>\n",
       "</table>\n",
       "</div>"
      ],
      "text/plain": [
       "           Price    Weight\n",
       "Price   1.000000  0.581198\n",
       "Weight  0.581198  1.000000"
      ]
     },
     "execution_count": 50,
     "metadata": {},
     "output_type": "execute_result"
    }
   ],
   "source": [
    "df_8.corr()"
   ]
  },
  {
   "cell_type": "code",
   "execution_count": 51,
   "id": "d888e703",
   "metadata": {},
   "outputs": [],
   "source": [
    "#there is weak relation between price and wt"
   ]
  },
  {
   "cell_type": "code",
   "execution_count": 52,
   "id": "366927b3",
   "metadata": {},
   "outputs": [
    {
     "data": {
      "image/png": "[encoded data removed]",
      "text/plain": [
       "<Figure size 640x480 with 2 Axes>"
      ]
     },
     "metadata": {},
     "output_type": "display_data"
    }
   ],
   "source": [
    "correlation_matrix=df[[\"Price\",\"age\",\"KM\",\"HP\",\"Automatic\",\"cylinVolume\",\"Doors\",\"Gears\",\"Weight\"]].corr()\n",
    "sns.heatmap(correlation_matrix,annot=True,cmap='coolwarm')\n",
    "plt.title(\"Correlation of each and every Variable\")\n",
    "plt.show()"
   ]
  },
  {
   "cell_type": "markdown",
   "id": "9b414f88",
   "metadata": {},
   "source": [
    "with this observation ,we can say that :\n",
    "## 1.price and age have strong negative correlation\n",
    "## 2.price and kilometers have medium negative correlation\n",
    "## 3.price and weight have medium positive correlation\n",
    "## 4.price and horsepower and weak positive correlation\n",
    "## 5.age and weight also have weak negative correlation\n",
    "the rest of the variables seems to have almost no noticeable relation with the price  "
   ]
  },
  {
   "cell_type": "code",
   "execution_count": 53,
   "id": "0ec00e56",
   "metadata": {},
   "outputs": [
    {
     "data": {
      "image/png": "[encoded data removed]",
      "text/plain": [
       "<Figure size 640x480 with 1 Axes>"
      ]
     },
     "metadata": {},
     "output_type": "display_data"
    }
   ],
   "source": [
    "relations=df[[\"HP\",\"age\",\"KM\",\"Weight\"]]\n",
    "sns.boxplot(relations)\n",
    "plt.xlabel(\"box plot for hp,age,km,Weight\")\n",
    "plt.ylabel(\"values\")\n",
    "plt.show()"
   ]
  },
  {
   "cell_type": "markdown",
   "id": "1efd5e8a",
   "metadata": {},
   "source": [
    "# 1.First Model - we'll take the correlated matrix and perform simple linear regression with some transformations if needed"
   ]
  },
  {
   "cell_type": "code",
   "execution_count": 54,
   "id": "179d7ccb",
   "metadata": {},
   "outputs": [],
   "source": [
    "\n",
    "X1=df[[\"age\",\"KM\",\"Weight\"]]#first we will just take the strong and medium correlated variables then we'll try and see with weak variables as well.\n",
    "Y=df[\"Price\"]"
   ]
  },
  {
   "cell_type": "code",
   "execution_count": 55,
   "id": "0b135e0b",
   "metadata": {},
   "outputs": [],
   "source": [
    "from sklearn.linear_model import LinearRegression"
   ]
  },
  {
   "cell_type": "code",
   "execution_count": 56,
   "id": "40ddb590",
   "metadata": {},
   "outputs": [],
   "source": [
    "LR=LinearRegression()"
   ]
  },
  {
   "cell_type": "code",
   "execution_count": 57,
   "id": "7b732df3",
   "metadata": {},
   "outputs": [
    {
     "data": {
      "text/html": [
       "<style>#sk-container-id-1 {color: black;}#sk-container-id-1 pre{padding: 0;}#sk-container-id-1 div.sk-toggleable {background-color: white;}#sk-container-id-1 label.sk-toggleable__label {cursor: pointer;display: block;width: 100%;margin-bottom: 0;padding: 0.3em;box-sizing: border-box;text-align: center;}#sk-container-id-1 label.sk-toggleable__label-arrow:before {content: \"▸\";float: left;margin-right: 0.25em;color: #696969;}#sk-container-id-1 label.sk-toggleable__label-arrow:hover:before {color: black;}#sk-container-id-1 div.sk-estimator:hover label.sk-toggleable__label-arrow:before {color: black;}#sk-container-id-1 div.sk-toggleable__content {max-height: 0;max-width: 0;overflow: hidden;text-align: left;background-color: #f0f8ff;}#sk-container-id-1 div.sk-toggleable__content pre {margin: 0.2em;color: black;border-radius: 0.25em;background-color: #f0f8ff;}#sk-container-id-1 input.sk-toggleable__control:checked~div.sk-toggleable__content {max-height: 200px;max-width: 100%;overflow: auto;}#sk-container-id-1 input.sk-toggleable__control:checked~label.sk-toggleable__label-arrow:before {content: \"▾\";}#sk-container-id-1 div.sk-estimator input.sk-toggleable__control:checked~label.sk-toggleable__label {background-color: #d4ebff;}#sk-container-id-1 div.sk-label input.sk-toggleable__control:checked~label.sk-toggleable__label {background-color: #d4ebff;}#sk-container-id-1 input.sk-hidden--visually {border: 0;clip: rect(1px 1px 1px 1px);clip: rect(1px, 1px, 1px, 1px);height: 1px;margin: -1px;overflow: hidden;padding: 0;position: absolute;width: 1px;}#sk-container-id-1 div.sk-estimator {font-family: monospace;background-color: #f0f8ff;border: 1px dotted black;border-radius: 0.25em;box-sizing: border-box;margin-bottom: 0.5em;}#sk-container-id-1 div.sk-estimator:hover {background-color: #d4ebff;}#sk-container-id-1 div.sk-parallel-item::after {content: \"\";width: 100%;border-bottom: 1px solid gray;flex-grow: 1;}#sk-container-id-1 div.sk-label:hover label.sk-toggleable__label {background-color: #d4ebff;}#sk-container-id-1 div.sk-serial::before {content: \"\";position: absolute;border-left: 1px solid gray;box-sizing: border-box;top: 0;bottom: 0;left: 50%;z-index: 0;}#sk-container-id-1 div.sk-serial {display: flex;flex-direction: column;align-items: center;background-color: white;padding-right: 0.2em;padding-left: 0.2em;position: relative;}#sk-container-id-1 div.sk-item {position: relative;z-index: 1;}#sk-container-id-1 div.sk-parallel {display: flex;align-items: stretch;justify-content: center;background-color: white;position: relative;}#sk-container-id-1 div.sk-item::before, #sk-container-id-1 div.sk-parallel-item::before {content: \"\";position: absolute;border-left: 1px solid gray;box-sizing: border-box;top: 0;bottom: 0;left: 50%;z-index: -1;}#sk-container-id-1 div.sk-parallel-item {display: flex;flex-direction: column;z-index: 1;position: relative;background-color: white;}#sk-container-id-1 div.sk-parallel-item:first-child::after {align-self: flex-end;width: 50%;}#sk-container-id-1 div.sk-parallel-item:last-child::after {align-self: flex-start;width: 50%;}#sk-container-id-1 div.sk-parallel-item:only-child::after {width: 0;}#sk-container-id-1 div.sk-dashed-wrapped {border: 1px dashed gray;margin: 0 0.4em 0.5em 0.4em;box-sizing: border-box;padding-bottom: 0.4em;background-color: white;}#sk-container-id-1 div.sk-label label {font-family: monospace;font-weight: bold;display: inline-block;line-height: 1.2em;}#sk-container-id-1 div.sk-label-container {text-align: center;}#sk-container-id-1 div.sk-container {/* jupyter's `normalize.less` sets `[hidden] { display: none; }` but bootstrap.min.css set `[hidden] { display: none !important; }` so we also need the `!important` here to be able to override the default hidden behavior on the sphinx rendered scikit-learn.org. See: https://github.com/scikit-learn/scikit-learn/issues/21755 */display: inline-block !important;position: relative;}#sk-container-id-1 div.sk-text-repr-fallback {display: none;}</style><div id=\"sk-container-id-1\" class=\"sk-top-container\"><div class=\"sk-text-repr-fallback\"><pre>LinearRegression()</pre><b>In a Jupyter environment, please rerun this cell to show the HTML representation or trust the notebook. <br />On GitHub, the HTML representation is unable to render, please try loading this page with nbviewer.org.</b></div><div class=\"sk-container\" hidden><div class=\"sk-item\"><div class=\"sk-estimator sk-toggleable\"><input class=\"sk-toggleable__control sk-hidden--visually\" id=\"sk-estimator-id-1\" type=\"checkbox\" checked><label for=\"sk-estimator-id-1\" class=\"sk-toggleable__label sk-toggleable__label-arrow\">LinearRegression</label><div class=\"sk-toggleable__content\"><pre>LinearRegression()</pre></div></div></div></div></div>"
      ],
      "text/plain": [
       "LinearRegression()"
      ]
     },
     "execution_count": 57,
     "metadata": {},
     "output_type": "execute_result"
    }
   ],
   "source": [
    "LR.fit(X1,Y)"
   ]
  },
  {
   "cell_type": "code",
   "execution_count": 58,
   "id": "cbe8b4f7",
   "metadata": {},
   "outputs": [],
   "source": [
    "Y_pred=LR.predict(X1)"
   ]
  },
  {
   "cell_type": "code",
   "execution_count": 59,
   "id": "bb80efd1",
   "metadata": {},
   "outputs": [],
   "source": [
    "#we will check the means squared error and root means squared error and rsquare value "
   ]
  },
  {
   "cell_type": "code",
   "execution_count": 60,
   "id": "ccc04464",
   "metadata": {},
   "outputs": [],
   "source": [
    "from sklearn.metrics import mean_squared_error"
   ]
  },
  {
   "cell_type": "code",
   "execution_count": 61,
   "id": "7e9b2d5b",
   "metadata": {},
   "outputs": [],
   "source": [
    "from sklearn.metrics import r2_score"
   ]
  },
  {
   "cell_type": "code",
   "execution_count": 62,
   "id": "91966431",
   "metadata": {},
   "outputs": [],
   "source": [
    "mse=mean_squared_error(Y,Y_pred)\n",
    "rsquare=r2_score(Y,Y_pred)"
   ]
  },
  {
   "cell_type": "code",
   "execution_count": 63,
   "id": "153865af",
   "metadata": {},
   "outputs": [
    {
     "name": "stdout",
     "output_type": "stream",
     "text": [
      "mean square error of  age ,km,weight model  is :  1996777.761\n",
      "root mean square error of  model is :  1413.074\n",
      "rsquared of this model is :  0.848\n"
     ]
    }
   ],
   "source": [
    "print(\"mean square error of  age ,km,weight model  is : \",mse.round(3))\n",
    "print(\"root mean square error of  model is : \",np.sqrt(mse).round(3))\n",
    "print(\"rsquared of this model is : \",rsquare.round(3))"
   ]
  },
  {
   "cell_type": "code",
   "execution_count": 64,
   "id": "2aa4b0ec",
   "metadata": {},
   "outputs": [],
   "source": [
    "#this model is showing errors way too much ,which culd b the result of non linear association,outliers"
   ]
  },
  {
   "cell_type": "code",
   "execution_count": 65,
   "id": "29119f4b",
   "metadata": {},
   "outputs": [],
   "source": [
    "#before treating the outliers we will try to include one more variable and see how the model reacts"
   ]
  },
  {
   "cell_type": "code",
   "execution_count": 66,
   "id": "1d6f2574",
   "metadata": {},
   "outputs": [],
   "source": [
    "X2=df[[\"age\",\"KM\",\"Weight\",\"HP\"]]"
   ]
  },
  {
   "cell_type": "code",
   "execution_count": 67,
   "id": "525d6898",
   "metadata": {},
   "outputs": [
    {
     "data": {
      "text/html": [
       "<style>#sk-container-id-2 {color: black;}#sk-container-id-2 pre{padding: 0;}#sk-container-id-2 div.sk-toggleable {background-color: white;}#sk-container-id-2 label.sk-toggleable__label {cursor: pointer;display: block;width: 100%;margin-bottom: 0;padding: 0.3em;box-sizing: border-box;text-align: center;}#sk-container-id-2 label.sk-toggleable__label-arrow:before {content: \"▸\";float: left;margin-right: 0.25em;color: #696969;}#sk-container-id-2 label.sk-toggleable__label-arrow:hover:before {color: black;}#sk-container-id-2 div.sk-estimator:hover label.sk-toggleable__label-arrow:before {color: black;}#sk-container-id-2 div.sk-toggleable__content {max-height: 0;max-width: 0;overflow: hidden;text-align: left;background-color: #f0f8ff;}#sk-container-id-2 div.sk-toggleable__content pre {margin: 0.2em;color: black;border-radius: 0.25em;background-color: #f0f8ff;}#sk-container-id-2 input.sk-toggleable__control:checked~div.sk-toggleable__content {max-height: 200px;max-width: 100%;overflow: auto;}#sk-container-id-2 input.sk-toggleable__control:checked~label.sk-toggleable__label-arrow:before {content: \"▾\";}#sk-container-id-2 div.sk-estimator input.sk-toggleable__control:checked~label.sk-toggleable__label {background-color: #d4ebff;}#sk-container-id-2 div.sk-label input.sk-toggleable__control:checked~label.sk-toggleable__label {background-color: #d4ebff;}#sk-container-id-2 input.sk-hidden--visually {border: 0;clip: rect(1px 1px 1px 1px);clip: rect(1px, 1px, 1px, 1px);height: 1px;margin: -1px;overflow: hidden;padding: 0;position: absolute;width: 1px;}#sk-container-id-2 div.sk-estimator {font-family: monospace;background-color: #f0f8ff;border: 1px dotted black;border-radius: 0.25em;box-sizing: border-box;margin-bottom: 0.5em;}#sk-container-id-2 div.sk-estimator:hover {background-color: #d4ebff;}#sk-container-id-2 div.sk-parallel-item::after {content: \"\";width: 100%;border-bottom: 1px solid gray;flex-grow: 1;}#sk-container-id-2 div.sk-label:hover label.sk-toggleable__label {background-color: #d4ebff;}#sk-container-id-2 div.sk-serial::before {content: \"\";position: absolute;border-left: 1px solid gray;box-sizing: border-box;top: 0;bottom: 0;left: 50%;z-index: 0;}#sk-container-id-2 div.sk-serial {display: flex;flex-direction: column;align-items: center;background-color: white;padding-right: 0.2em;padding-left: 0.2em;position: relative;}#sk-container-id-2 div.sk-item {position: relative;z-index: 1;}#sk-container-id-2 div.sk-parallel {display: flex;align-items: stretch;justify-content: center;background-color: white;position: relative;}#sk-container-id-2 div.sk-item::before, #sk-container-id-2 div.sk-parallel-item::before {content: \"\";position: absolute;border-left: 1px solid gray;box-sizing: border-box;top: 0;bottom: 0;left: 50%;z-index: -1;}#sk-container-id-2 div.sk-parallel-item {display: flex;flex-direction: column;z-index: 1;position: relative;background-color: white;}#sk-container-id-2 div.sk-parallel-item:first-child::after {align-self: flex-end;width: 50%;}#sk-container-id-2 div.sk-parallel-item:last-child::after {align-self: flex-start;width: 50%;}#sk-container-id-2 div.sk-parallel-item:only-child::after {width: 0;}#sk-container-id-2 div.sk-dashed-wrapped {border: 1px dashed gray;margin: 0 0.4em 0.5em 0.4em;box-sizing: border-box;padding-bottom: 0.4em;background-color: white;}#sk-container-id-2 div.sk-label label {font-family: monospace;font-weight: bold;display: inline-block;line-height: 1.2em;}#sk-container-id-2 div.sk-label-container {text-align: center;}#sk-container-id-2 div.sk-container {/* jupyter's `normalize.less` sets `[hidden] { display: none; }` but bootstrap.min.css set `[hidden] { display: none !important; }` so we also need the `!important` here to be able to override the default hidden behavior on the sphinx rendered scikit-learn.org. See: https://github.com/scikit-learn/scikit-learn/issues/21755 */display: inline-block !important;position: relative;}#sk-container-id-2 div.sk-text-repr-fallback {display: none;}</style><div id=\"sk-container-id-2\" class=\"sk-top-container\"><div class=\"sk-text-repr-fallback\"><pre>LinearRegression()</pre><b>In a Jupyter environment, please rerun this cell to show the HTML representation or trust the notebook. <br />On GitHub, the HTML representation is unable to render, please try loading this page with nbviewer.org.</b></div><div class=\"sk-container\" hidden><div class=\"sk-item\"><div class=\"sk-estimator sk-toggleable\"><input class=\"sk-toggleable__control sk-hidden--visually\" id=\"sk-estimator-id-2\" type=\"checkbox\" checked><label for=\"sk-estimator-id-2\" class=\"sk-toggleable__label sk-toggleable__label-arrow\">LinearRegression</label><div class=\"sk-toggleable__content\"><pre>LinearRegression()</pre></div></div></div></div></div>"
      ],
      "text/plain": [
       "LinearRegression()"
      ]
     },
     "execution_count": 67,
     "metadata": {},
     "output_type": "execute_result"
    }
   ],
   "source": [
    "LR.fit(X2,Y)"
   ]
  },
  {
   "cell_type": "code",
   "execution_count": 68,
   "id": "be6e859e",
   "metadata": {},
   "outputs": [],
   "source": [
    "Y_pred=LR.predict(X2)"
   ]
  },
  {
   "cell_type": "code",
   "execution_count": 69,
   "id": "5590db41",
   "metadata": {},
   "outputs": [],
   "source": [
    "mse=mean_squared_error(Y,Y_pred)\n",
    "rsquare=r2_score(Y,Y_pred)"
   ]
  },
  {
   "cell_type": "code",
   "execution_count": 70,
   "id": "a591bc7c",
   "metadata": {},
   "outputs": [
    {
     "name": "stdout",
     "output_type": "stream",
     "text": [
      "mean square error of  age ,km,weight model  is :  1817054.528\n",
      "root mean square error of  model is :  1347.982\n",
      "rsquared of this model is :  0.862\n"
     ]
    }
   ],
   "source": [
    "print(\"mean square error of  age ,km,weight model  is : \",mse.round(3))\n",
    "print(\"root mean square error of  model is : \",np.sqrt(mse).round(3))\n",
    "print(\"rsquared of this model is : \",rsquare.round(3))"
   ]
  },
  {
   "cell_type": "markdown",
   "id": "a6a17726",
   "metadata": {},
   "source": [
    "the model has somewhat reduced the error but it's still very large ,so we'll try to remove the outliers of km "
   ]
  },
  {
   "cell_type": "code",
   "execution_count": 71,
   "id": "c8681c93",
   "metadata": {},
   "outputs": [
    {
     "data": {
      "image/png": "[encoded data removed]",
      "text/plain": [
       "<Figure size 640x480 with 1 Axes>"
      ]
     },
     "metadata": {},
     "output_type": "display_data"
    }
   ],
   "source": [
    "sns.boxplot(df[\"KM\"],orient=\"horizontal\")\n",
    "plt.xlabel(\"box plot for KM\")\n",
    "plt.ylabel(\"values\")\n",
    "plt.show()"
   ]
  },
  {
   "cell_type": "code",
   "execution_count": 72,
   "id": "9b91646f",
   "metadata": {},
   "outputs": [],
   "source": [
    "#but we will keep our threshold high so as to avoid data losing"
   ]
  },
  {
   "cell_type": "code",
   "execution_count": 73,
   "id": "f3ad91b0",
   "metadata": {},
   "outputs": [],
   "source": [
    "Q1ofkm=np.percentile(df[\"KM\"],20)"
   ]
  },
  {
   "cell_type": "code",
   "execution_count": 74,
   "id": "63b583b0",
   "metadata": {},
   "outputs": [],
   "source": [
    "Q3ofkm=np.percentile(df[\"KM\"],80)"
   ]
  },
  {
   "cell_type": "code",
   "execution_count": 75,
   "id": "4bbb1982",
   "metadata": {},
   "outputs": [],
   "source": [
    "IQR=(Q3ofkm)-(Q1ofkm)"
   ]
  },
  {
   "cell_type": "code",
   "execution_count": 76,
   "id": "5720e5e0",
   "metadata": {},
   "outputs": [],
   "source": [
    "upperwhisker=Q3ofkm + 1.5*(IQR)"
   ]
  },
  {
   "cell_type": "code",
   "execution_count": 77,
   "id": "d7cdd6da",
   "metadata": {},
   "outputs": [],
   "source": [
    "lowerwhisker=Q1ofkm - 1.5*(IQR)"
   ]
  },
  {
   "cell_type": "code",
   "execution_count": 78,
   "id": "af73277c",
   "metadata": {},
   "outputs": [],
   "source": [
    "uppercondition=df[\"KM\"] <upperwhisker\n",
    "lowercondition=df[\"KM\"] > lowerwhisker"
   ]
  },
  {
   "cell_type": "code",
   "execution_count": 79,
   "id": "0de5da8a",
   "metadata": {},
   "outputs": [
    {
     "data": {
      "text/plain": [
       "19"
      ]
     },
     "execution_count": 79,
     "metadata": {},
     "output_type": "execute_result"
    }
   ],
   "source": [
    "df[\"KM\"][df[\"KM\"] > upperwhisker].count()#there are 19 outliers in the upper whisker"
   ]
  },
  {
   "cell_type": "code",
   "execution_count": 80,
   "id": "6453e1aa",
   "metadata": {},
   "outputs": [
    {
     "data": {
      "text/plain": [
       "0"
      ]
     },
     "execution_count": 80,
     "metadata": {},
     "output_type": "execute_result"
    }
   ],
   "source": [
    "df[\"KM\"][df[\"KM\"] < lowerwhisker].count()#there are 0 outliers in the lower whisker"
   ]
  },
  {
   "cell_type": "code",
   "execution_count": 81,
   "id": "22b36281",
   "metadata": {},
   "outputs": [],
   "source": [
    "filter = lowercondition & uppercondition"
   ]
  },
  {
   "cell_type": "code",
   "execution_count": 82,
   "id": "b5237028",
   "metadata": {},
   "outputs": [],
   "source": [
    "cleandata=df1.loc[filter,\"KM\"].tolist()"
   ]
  },
  {
   "cell_type": "code",
   "execution_count": 83,
   "id": "31f14f3b",
   "metadata": {},
   "outputs": [],
   "source": [
    "df[\"KM\"]=pd.DataFrame(cleandata)"
   ]
  },
  {
   "cell_type": "code",
   "execution_count": 84,
   "id": "2e1e6c62",
   "metadata": {},
   "outputs": [
    {
     "data": {
      "text/plain": [
       "19"
      ]
     },
     "execution_count": 84,
     "metadata": {},
     "output_type": "execute_result"
    }
   ],
   "source": [
    "df[\"KM\"].isnull().sum()#we have removed the outliers as a result we got equal no.of null vaues"
   ]
  },
  {
   "cell_type": "code",
   "execution_count": 85,
   "id": "35ac2c53",
   "metadata": {},
   "outputs": [],
   "source": [
    "df.fillna(value=df[\"KM\"].mean(),inplace=True)#we will fill the null values with its mean"
   ]
  },
  {
   "cell_type": "code",
   "execution_count": 86,
   "id": "ba288958",
   "metadata": {},
   "outputs": [
    {
     "data": {
      "text/plain": [
       "0"
      ]
     },
     "execution_count": 86,
     "metadata": {},
     "output_type": "execute_result"
    }
   ],
   "source": [
    "df[\"KM\"].isnull().sum()"
   ]
  },
  {
   "cell_type": "code",
   "execution_count": 87,
   "id": "366aca19",
   "metadata": {},
   "outputs": [],
   "source": [
    "#now we will again fit the model and see if the error gets reduced"
   ]
  },
  {
   "cell_type": "code",
   "execution_count": 88,
   "id": "bcce50a3",
   "metadata": {},
   "outputs": [],
   "source": [
    "X3=df[[\"age\",\"KM\",\"Weight\",\"HP\"]]"
   ]
  },
  {
   "cell_type": "code",
   "execution_count": 89,
   "id": "e13252cd",
   "metadata": {},
   "outputs": [],
   "source": [
    "Y=df[\"Price\"]"
   ]
  },
  {
   "cell_type": "code",
   "execution_count": 90,
   "id": "ecefbd75",
   "metadata": {},
   "outputs": [
    {
     "data": {
      "text/html": [
       "<style>#sk-container-id-3 {color: black;}#sk-container-id-3 pre{padding: 0;}#sk-container-id-3 div.sk-toggleable {background-color: white;}#sk-container-id-3 label.sk-toggleable__label {cursor: pointer;display: block;width: 100%;margin-bottom: 0;padding: 0.3em;box-sizing: border-box;text-align: center;}#sk-container-id-3 label.sk-toggleable__label-arrow:before {content: \"▸\";float: left;margin-right: 0.25em;color: #696969;}#sk-container-id-3 label.sk-toggleable__label-arrow:hover:before {color: black;}#sk-container-id-3 div.sk-estimator:hover label.sk-toggleable__label-arrow:before {color: black;}#sk-container-id-3 div.sk-toggleable__content {max-height: 0;max-width: 0;overflow: hidden;text-align: left;background-color: #f0f8ff;}#sk-container-id-3 div.sk-toggleable__content pre {margin: 0.2em;color: black;border-radius: 0.25em;background-color: #f0f8ff;}#sk-container-id-3 input.sk-toggleable__control:checked~div.sk-toggleable__content {max-height: 200px;max-width: 100%;overflow: auto;}#sk-container-id-3 input.sk-toggleable__control:checked~label.sk-toggleable__label-arrow:before {content: \"▾\";}#sk-container-id-3 div.sk-estimator input.sk-toggleable__control:checked~label.sk-toggleable__label {background-color: #d4ebff;}#sk-container-id-3 div.sk-label input.sk-toggleable__control:checked~label.sk-toggleable__label {background-color: #d4ebff;}#sk-container-id-3 input.sk-hidden--visually {border: 0;clip: rect(1px 1px 1px 1px);clip: rect(1px, 1px, 1px, 1px);height: 1px;margin: -1px;overflow: hidden;padding: 0;position: absolute;width: 1px;}#sk-container-id-3 div.sk-estimator {font-family: monospace;background-color: #f0f8ff;border: 1px dotted black;border-radius: 0.25em;box-sizing: border-box;margin-bottom: 0.5em;}#sk-container-id-3 div.sk-estimator:hover {background-color: #d4ebff;}#sk-container-id-3 div.sk-parallel-item::after {content: \"\";width: 100%;border-bottom: 1px solid gray;flex-grow: 1;}#sk-container-id-3 div.sk-label:hover label.sk-toggleable__label {background-color: #d4ebff;}#sk-container-id-3 div.sk-serial::before {content: \"\";position: absolute;border-left: 1px solid gray;box-sizing: border-box;top: 0;bottom: 0;left: 50%;z-index: 0;}#sk-container-id-3 div.sk-serial {display: flex;flex-direction: column;align-items: center;background-color: white;padding-right: 0.2em;padding-left: 0.2em;position: relative;}#sk-container-id-3 div.sk-item {position: relative;z-index: 1;}#sk-container-id-3 div.sk-parallel {display: flex;align-items: stretch;justify-content: center;background-color: white;position: relative;}#sk-container-id-3 div.sk-item::before, #sk-container-id-3 div.sk-parallel-item::before {content: \"\";position: absolute;border-left: 1px solid gray;box-sizing: border-box;top: 0;bottom: 0;left: 50%;z-index: -1;}#sk-container-id-3 div.sk-parallel-item {display: flex;flex-direction: column;z-index: 1;position: relative;background-color: white;}#sk-container-id-3 div.sk-parallel-item:first-child::after {align-self: flex-end;width: 50%;}#sk-container-id-3 div.sk-parallel-item:last-child::after {align-self: flex-start;width: 50%;}#sk-container-id-3 div.sk-parallel-item:only-child::after {width: 0;}#sk-container-id-3 div.sk-dashed-wrapped {border: 1px dashed gray;margin: 0 0.4em 0.5em 0.4em;box-sizing: border-box;padding-bottom: 0.4em;background-color: white;}#sk-container-id-3 div.sk-label label {font-family: monospace;font-weight: bold;display: inline-block;line-height: 1.2em;}#sk-container-id-3 div.sk-label-container {text-align: center;}#sk-container-id-3 div.sk-container {/* jupyter's `normalize.less` sets `[hidden] { display: none; }` but bootstrap.min.css set `[hidden] { display: none !important; }` so we also need the `!important` here to be able to override the default hidden behavior on the sphinx rendered scikit-learn.org. See: https://github.com/scikit-learn/scikit-learn/issues/21755 */display: inline-block !important;position: relative;}#sk-container-id-3 div.sk-text-repr-fallback {display: none;}</style><div id=\"sk-container-id-3\" class=\"sk-top-container\"><div class=\"sk-text-repr-fallback\"><pre>LinearRegression()</pre><b>In a Jupyter environment, please rerun this cell to show the HTML representation or trust the notebook. <br />On GitHub, the HTML representation is unable to render, please try loading this page with nbviewer.org.</b></div><div class=\"sk-container\" hidden><div class=\"sk-item\"><div class=\"sk-estimator sk-toggleable\"><input class=\"sk-toggleable__control sk-hidden--visually\" id=\"sk-estimator-id-3\" type=\"checkbox\" checked><label for=\"sk-estimator-id-3\" class=\"sk-toggleable__label sk-toggleable__label-arrow\">LinearRegression</label><div class=\"sk-toggleable__content\"><pre>LinearRegression()</pre></div></div></div></div></div>"
      ],
      "text/plain": [
       "LinearRegression()"
      ]
     },
     "execution_count": 90,
     "metadata": {},
     "output_type": "execute_result"
    }
   ],
   "source": [
    "LR.fit(X3,Y)"
   ]
  },
  {
   "cell_type": "code",
   "execution_count": 91,
   "id": "ec02e5ce",
   "metadata": {},
   "outputs": [],
   "source": [
    "Ypred=LR.predict(X3)"
   ]
  },
  {
   "cell_type": "code",
   "execution_count": 92,
   "id": "b817e7fa",
   "metadata": {},
   "outputs": [],
   "source": [
    "mse=mean_squared_error(Y,Ypred)\n",
    "rsquare=r2_score(Y,Ypred)"
   ]
  },
  {
   "cell_type": "code",
   "execution_count": 93,
   "id": "cd7f5e09",
   "metadata": {},
   "outputs": [
    {
     "name": "stdout",
     "output_type": "stream",
     "text": [
      "mean square error of  age ,km,weight and hp weight model  is :  1878383.054\n",
      "root mean square error of  model is :  1370.541\n",
      "rsquared of this model is :  0.857\n"
     ]
    }
   ],
   "source": [
    "print(\"mean square error of  age ,km,weight and hp weight model  is : \",mse.round(3))\n",
    "print(\"root mean square error of  model is : \",np.sqrt(mse).round(3))\n",
    "print(\"rsquared of this model is : \",rsquare.round(3))"
   ]
  },
  {
   "cell_type": "markdown",
   "id": "61f55a7e",
   "metadata": {},
   "source": [
    "###  the outliers have again increased the error and reduced the rsquare so this is not a good model ,we'll try feature engineering"
   ]
  },
  {
   "cell_type": "code",
   "execution_count": 94,
   "id": "771e9f35",
   "metadata": {},
   "outputs": [],
   "source": [
    "X4=np.log(df[[\"age\",\"KM\",\"Weight\",\"HP\"]]+1)#applying log transformations\n",
    "Y2=np.log(df[\"Price\"] + 1)"
   ]
  },
  {
   "cell_type": "code",
   "execution_count": 95,
   "id": "2c3f17f7",
   "metadata": {},
   "outputs": [
    {
     "data": {
      "text/html": [
       "<style>#sk-container-id-4 {color: black;}#sk-container-id-4 pre{padding: 0;}#sk-container-id-4 div.sk-toggleable {background-color: white;}#sk-container-id-4 label.sk-toggleable__label {cursor: pointer;display: block;width: 100%;margin-bottom: 0;padding: 0.3em;box-sizing: border-box;text-align: center;}#sk-container-id-4 label.sk-toggleable__label-arrow:before {content: \"▸\";float: left;margin-right: 0.25em;color: #696969;}#sk-container-id-4 label.sk-toggleable__label-arrow:hover:before {color: black;}#sk-container-id-4 div.sk-estimator:hover label.sk-toggleable__label-arrow:before {color: black;}#sk-container-id-4 div.sk-toggleable__content {max-height: 0;max-width: 0;overflow: hidden;text-align: left;background-color: #f0f8ff;}#sk-container-id-4 div.sk-toggleable__content pre {margin: 0.2em;color: black;border-radius: 0.25em;background-color: #f0f8ff;}#sk-container-id-4 input.sk-toggleable__control:checked~div.sk-toggleable__content {max-height: 200px;max-width: 100%;overflow: auto;}#sk-container-id-4 input.sk-toggleable__control:checked~label.sk-toggleable__label-arrow:before {content: \"▾\";}#sk-container-id-4 div.sk-estimator input.sk-toggleable__control:checked~label.sk-toggleable__label {background-color: #d4ebff;}#sk-container-id-4 div.sk-label input.sk-toggleable__control:checked~label.sk-toggleable__label {background-color: #d4ebff;}#sk-container-id-4 input.sk-hidden--visually {border: 0;clip: rect(1px 1px 1px 1px);clip: rect(1px, 1px, 1px, 1px);height: 1px;margin: -1px;overflow: hidden;padding: 0;position: absolute;width: 1px;}#sk-container-id-4 div.sk-estimator {font-family: monospace;background-color: #f0f8ff;border: 1px dotted black;border-radius: 0.25em;box-sizing: border-box;margin-bottom: 0.5em;}#sk-container-id-4 div.sk-estimator:hover {background-color: #d4ebff;}#sk-container-id-4 div.sk-parallel-item::after {content: \"\";width: 100%;border-bottom: 1px solid gray;flex-grow: 1;}#sk-container-id-4 div.sk-label:hover label.sk-toggleable__label {background-color: #d4ebff;}#sk-container-id-4 div.sk-serial::before {content: \"\";position: absolute;border-left: 1px solid gray;box-sizing: border-box;top: 0;bottom: 0;left: 50%;z-index: 0;}#sk-container-id-4 div.sk-serial {display: flex;flex-direction: column;align-items: center;background-color: white;padding-right: 0.2em;padding-left: 0.2em;position: relative;}#sk-container-id-4 div.sk-item {position: relative;z-index: 1;}#sk-container-id-4 div.sk-parallel {display: flex;align-items: stretch;justify-content: center;background-color: white;position: relative;}#sk-container-id-4 div.sk-item::before, #sk-container-id-4 div.sk-parallel-item::before {content: \"\";position: absolute;border-left: 1px solid gray;box-sizing: border-box;top: 0;bottom: 0;left: 50%;z-index: -1;}#sk-container-id-4 div.sk-parallel-item {display: flex;flex-direction: column;z-index: 1;position: relative;background-color: white;}#sk-container-id-4 div.sk-parallel-item:first-child::after {align-self: flex-end;width: 50%;}#sk-container-id-4 div.sk-parallel-item:last-child::after {align-self: flex-start;width: 50%;}#sk-container-id-4 div.sk-parallel-item:only-child::after {width: 0;}#sk-container-id-4 div.sk-dashed-wrapped {border: 1px dashed gray;margin: 0 0.4em 0.5em 0.4em;box-sizing: border-box;padding-bottom: 0.4em;background-color: white;}#sk-container-id-4 div.sk-label label {font-family: monospace;font-weight: bold;display: inline-block;line-height: 1.2em;}#sk-container-id-4 div.sk-label-container {text-align: center;}#sk-container-id-4 div.sk-container {/* jupyter's `normalize.less` sets `[hidden] { display: none; }` but bootstrap.min.css set `[hidden] { display: none !important; }` so we also need the `!important` here to be able to override the default hidden behavior on the sphinx rendered scikit-learn.org. See: https://github.com/scikit-learn/scikit-learn/issues/21755 */display: inline-block !important;position: relative;}#sk-container-id-4 div.sk-text-repr-fallback {display: none;}</style><div id=\"sk-container-id-4\" class=\"sk-top-container\"><div class=\"sk-text-repr-fallback\"><pre>LinearRegression()</pre><b>In a Jupyter environment, please rerun this cell to show the HTML representation or trust the notebook. <br />On GitHub, the HTML representation is unable to render, please try loading this page with nbviewer.org.</b></div><div class=\"sk-container\" hidden><div class=\"sk-item\"><div class=\"sk-estimator sk-toggleable\"><input class=\"sk-toggleable__control sk-hidden--visually\" id=\"sk-estimator-id-4\" type=\"checkbox\" checked><label for=\"sk-estimator-id-4\" class=\"sk-toggleable__label sk-toggleable__label-arrow\">LinearRegression</label><div class=\"sk-toggleable__content\"><pre>LinearRegression()</pre></div></div></div></div></div>"
      ],
      "text/plain": [
       "LinearRegression()"
      ]
     },
     "execution_count": 95,
     "metadata": {},
     "output_type": "execute_result"
    }
   ],
   "source": [
    "LR.fit(X4,Y2)"
   ]
  },
  {
   "cell_type": "code",
   "execution_count": 96,
   "id": "9481e340",
   "metadata": {},
   "outputs": [],
   "source": [
    "ypred=LR.predict(X4)"
   ]
  },
  {
   "cell_type": "code",
   "execution_count": 97,
   "id": "2a41f906",
   "metadata": {},
   "outputs": [],
   "source": [
    "mse=mean_squared_error(Y2,ypred)\n",
    "rsquare=r2_score(Y2,ypred)"
   ]
  },
  {
   "cell_type": "code",
   "execution_count": 98,
   "id": "2d0e7009",
   "metadata": {},
   "outputs": [
    {
     "name": "stdout",
     "output_type": "stream",
     "text": [
      "mean square error of  age ,km,weight and hp weight model  is :  0.021\n",
      "root mean square error of  model is :  0.145\n",
      "rsquared of this model is :  0.761\n"
     ]
    }
   ],
   "source": [
    "print(\"mean square error of  age ,km,weight and hp weight model  is : \",mse.round(3))\n",
    "print(\"root mean square error of  model is : \",np.sqrt(mse).round(3))\n",
    "print(\"rsquared of this model is : \",rsquare.round(3))"
   ]
  },
  {
   "cell_type": "markdown",
   "id": "4cb8c061",
   "metadata": {},
   "source": [
    "### the error have decreased and even the model performance ,but we can safely say that after performing feauture engineering our model have given better error,even though our rsquare is 76%,it is an average model but we can say that is a better model than other previous models"
   ]
  },
  {
   "cell_type": "code",
   "execution_count": 99,
   "id": "0e93b61c",
   "metadata": {},
   "outputs": [],
   "source": [
    "import statsmodels.api as sm"
   ]
  },
  {
   "cell_type": "code",
   "execution_count": 100,
   "id": "09056927",
   "metadata": {},
   "outputs": [],
   "source": [
    "X4=sm.add_constant(X4)"
   ]
  },
  {
   "cell_type": "code",
   "execution_count": 101,
   "id": "5a737fe7",
   "metadata": {},
   "outputs": [],
   "source": [
    "model = sm.OLS(Y2,X4).fit()"
   ]
  },
  {
   "cell_type": "code",
   "execution_count": 102,
   "id": "b082b30b",
   "metadata": {},
   "outputs": [
    {
     "data": {
      "text/html": [
       "<table class=\"simpletable\">\n",
       "<caption>OLS Regression Results</caption>\n",
       "<tr>\n",
       "  <th>Dep. Variable:</th>          <td>Price</td>      <th>  R-squared:         </th> <td>   0.761</td>\n",
       "</tr>\n",
       "<tr>\n",
       "  <th>Model:</th>                   <td>OLS</td>       <th>  Adj. R-squared:    </th> <td>   0.760</td>\n",
       "</tr>\n",
       "<tr>\n",
       "  <th>Method:</th>             <td>Least Squares</td>  <th>  F-statistic:       </th> <td>   1139.</td>\n",
       "</tr>\n",
       "<tr>\n",
       "  <th>Date:</th>             <td>Tue, 10 Sep 2024</td> <th>  Prob (F-statistic):</th>  <td>  0.00</td> \n",
       "</tr>\n",
       "<tr>\n",
       "  <th>Time:</th>                 <td>16:12:30</td>     <th>  Log-Likelihood:    </th> <td>  737.49</td>\n",
       "</tr>\n",
       "<tr>\n",
       "  <th>No. Observations:</th>      <td>  1436</td>      <th>  AIC:               </th> <td>  -1465.</td>\n",
       "</tr>\n",
       "<tr>\n",
       "  <th>Df Residuals:</th>          <td>  1431</td>      <th>  BIC:               </th> <td>  -1439.</td>\n",
       "</tr>\n",
       "<tr>\n",
       "  <th>Df Model:</th>              <td>     4</td>      <th>                     </th>     <td> </td>   \n",
       "</tr>\n",
       "<tr>\n",
       "  <th>Covariance Type:</th>      <td>nonrobust</td>    <th>                     </th>     <td> </td>   \n",
       "</tr>\n",
       "</table>\n",
       "<table class=\"simpletable\">\n",
       "<tr>\n",
       "     <td></td>       <th>coef</th>     <th>std err</th>      <th>t</th>      <th>P>|t|</th>  <th>[0.025</th>    <th>0.975]</th>  \n",
       "</tr>\n",
       "<tr>\n",
       "  <th>const</th>  <td>    4.3765</td> <td>    0.719</td> <td>    6.083</td> <td> 0.000</td> <td>    2.965</td> <td>    5.788</td>\n",
       "</tr>\n",
       "<tr>\n",
       "  <th>age</th>    <td>   -0.4834</td> <td>    0.012</td> <td>  -40.540</td> <td> 0.000</td> <td>   -0.507</td> <td>   -0.460</td>\n",
       "</tr>\n",
       "<tr>\n",
       "  <th>KM</th>     <td>    0.0139</td> <td>    0.005</td> <td>    2.785</td> <td> 0.005</td> <td>    0.004</td> <td>    0.024</td>\n",
       "</tr>\n",
       "<tr>\n",
       "  <th>Weight</th> <td>    0.6876</td> <td>    0.099</td> <td>    6.922</td> <td> 0.000</td> <td>    0.493</td> <td>    0.882</td>\n",
       "</tr>\n",
       "<tr>\n",
       "  <th>HP</th>     <td>    0.3942</td> <td>    0.027</td> <td>   14.813</td> <td> 0.000</td> <td>    0.342</td> <td>    0.446</td>\n",
       "</tr>\n",
       "</table>\n",
       "<table class=\"simpletable\">\n",
       "<tr>\n",
       "  <th>Omnibus:</th>       <td>319.272</td> <th>  Durbin-Watson:     </th> <td>   1.310</td> \n",
       "</tr>\n",
       "<tr>\n",
       "  <th>Prob(Omnibus):</th> <td> 0.000</td>  <th>  Jarque-Bera (JB):  </th> <td>1129.032</td> \n",
       "</tr>\n",
       "<tr>\n",
       "  <th>Skew:</th>          <td>-1.059</td>  <th>  Prob(JB):          </th> <td>6.82e-246</td>\n",
       "</tr>\n",
       "<tr>\n",
       "  <th>Kurtosis:</th>      <td> 6.793</td>  <th>  Cond. No.          </th> <td>2.72e+03</td> \n",
       "</tr>\n",
       "</table><br/><br/>Notes:<br/>[1] Standard Errors assume that the covariance matrix of the errors is correctly specified.<br/>[2] The condition number is large, 2.72e+03. This might indicate that there are<br/>strong multicollinearity or other numerical problems."
      ],
      "text/latex": [
       "\\begin{center}\n",
       "\\begin{tabular}{lclc}\n",
       "\\toprule\n",
       "\\textbf{Dep. Variable:}    &      Price       & \\textbf{  R-squared:         } &     0.761   \\\\\n",
       "\\textbf{Model:}            &       OLS        & \\textbf{  Adj. R-squared:    } &     0.760   \\\\\n",
       "\\textbf{Method:}           &  Least Squares   & \\textbf{  F-statistic:       } &     1139.   \\\\\n",
       "\\textbf{Date:}             & Tue, 10 Sep 2024 & \\textbf{  Prob (F-statistic):} &     0.00    \\\\\n",
       "\\textbf{Time:}             &     16:12:30     & \\textbf{  Log-Likelihood:    } &    737.49   \\\\\n",
       "\\textbf{No. Observations:} &        1436      & \\textbf{  AIC:               } &    -1465.   \\\\\n",
       "\\textbf{Df Residuals:}     &        1431      & \\textbf{  BIC:               } &    -1439.   \\\\\n",
       "\\textbf{Df Model:}         &           4      & \\textbf{                     } &             \\\\\n",
       "\\textbf{Covariance Type:}  &    nonrobust     & \\textbf{                     } &             \\\\\n",
       "\\bottomrule\n",
       "\\end{tabular}\n",
       "\\begin{tabular}{lcccccc}\n",
       "                & \\textbf{coef} & \\textbf{std err} & \\textbf{t} & \\textbf{P$> |$t$|$} & \\textbf{[0.025} & \\textbf{0.975]}  \\\\\n",
       "\\midrule\n",
       "\\textbf{const}  &       4.3765  &        0.719     &     6.083  &         0.000        &        2.965    &        5.788     \\\\\n",
       "\\textbf{age}    &      -0.4834  &        0.012     &   -40.540  &         0.000        &       -0.507    &       -0.460     \\\\\n",
       "\\textbf{KM}     &       0.0139  &        0.005     &     2.785  &         0.005        &        0.004    &        0.024     \\\\\n",
       "\\textbf{Weight} &       0.6876  &        0.099     &     6.922  &         0.000        &        0.493    &        0.882     \\\\\n",
       "\\textbf{HP}     &       0.3942  &        0.027     &    14.813  &         0.000        &        0.342    &        0.446     \\\\\n",
       "\\bottomrule\n",
       "\\end{tabular}\n",
       "\\begin{tabular}{lclc}\n",
       "\\textbf{Omnibus:}       & 319.272 & \\textbf{  Durbin-Watson:     } &     1.310  \\\\\n",
       "\\textbf{Prob(Omnibus):} &   0.000 & \\textbf{  Jarque-Bera (JB):  } &  1129.032  \\\\\n",
       "\\textbf{Skew:}          &  -1.059 & \\textbf{  Prob(JB):          } & 6.82e-246  \\\\\n",
       "\\textbf{Kurtosis:}      &   6.793 & \\textbf{  Cond. No.          } &  2.72e+03  \\\\\n",
       "\\bottomrule\n",
       "\\end{tabular}\n",
       "%\\caption{OLS Regression Results}\n",
       "\\end{center}\n",
       "\n",
       "Notes: \\newline\n",
       " [1] Standard Errors assume that the covariance matrix of the errors is correctly specified. \\newline\n",
       " [2] The condition number is large, 2.72e+03. This might indicate that there are \\newline\n",
       " strong multicollinearity or other numerical problems."
      ],
      "text/plain": [
       "<class 'statsmodels.iolib.summary.Summary'>\n",
       "\"\"\"\n",
       "                            OLS Regression Results                            \n",
       "==============================================================================\n",
       "Dep. Variable:                  Price   R-squared:                       0.761\n",
       "Model:                            OLS   Adj. R-squared:                  0.760\n",
       "Method:                 Least Squares   F-statistic:                     1139.\n",
       "Date:                Tue, 10 Sep 2024   Prob (F-statistic):               0.00\n",
       "Time:                        16:12:30   Log-Likelihood:                 737.49\n",
       "No. Observations:                1436   AIC:                            -1465.\n",
       "Df Residuals:                    1431   BIC:                            -1439.\n",
       "Df Model:                           4                                         \n",
       "Covariance Type:            nonrobust                                         \n",
       "==============================================================================\n",
       "                 coef    std err          t      P>|t|      [0.025      0.975]\n",
       "------------------------------------------------------------------------------\n",
       "const          4.3765      0.719      6.083      0.000       2.965       5.788\n",
       "age           -0.4834      0.012    -40.540      0.000      -0.507      -0.460\n",
       "KM             0.0139      0.005      2.785      0.005       0.004       0.024\n",
       "Weight         0.6876      0.099      6.922      0.000       0.493       0.882\n",
       "HP             0.3942      0.027     14.813      0.000       0.342       0.446\n",
       "==============================================================================\n",
       "Omnibus:                      319.272   Durbin-Watson:                   1.310\n",
       "Prob(Omnibus):                  0.000   Jarque-Bera (JB):             1129.032\n",
       "Skew:                          -1.059   Prob(JB):                    6.82e-246\n",
       "Kurtosis:                       6.793   Cond. No.                     2.72e+03\n",
       "==============================================================================\n",
       "\n",
       "Notes:\n",
       "[1] Standard Errors assume that the covariance matrix of the errors is correctly specified.\n",
       "[2] The condition number is large, 2.72e+03. This might indicate that there are\n",
       "strong multicollinearity or other numerical problems.\n",
       "\"\"\""
      ]
     },
     "execution_count": 102,
     "metadata": {},
     "output_type": "execute_result"
    }
   ],
   "source": [
    "model.summary()"
   ]
  },
  {
   "cell_type": "code",
   "execution_count": 103,
   "id": "ba32ff8a",
   "metadata": {},
   "outputs": [],
   "source": [
    "from statsmodels.stats.outliers_influence import variance_inflation_factor"
   ]
  },
  {
   "cell_type": "code",
   "execution_count": 104,
   "id": "7480f7db",
   "metadata": {},
   "outputs": [],
   "source": [
    "x4=sm.add_constant(X4)"
   ]
  },
  {
   "cell_type": "code",
   "execution_count": 105,
   "id": "eba6eb73",
   "metadata": {},
   "outputs": [
    {
     "name": "stdout",
     "output_type": "stream",
     "text": [
      "  Feature           VIF\n",
      "0   const  35337.306719\n",
      "1     age      2.286601\n",
      "2      KM      1.761591\n",
      "3  Weight      1.430739\n",
      "4      HP      1.039444\n"
     ]
    }
   ],
   "source": [
    "vif_data = pd.DataFrame()\n",
    "vif_data[\"Feature\"] = x4.columns\n",
    "vif_data[\"VIF\"] = [variance_inflation_factor(x4.values, i) for i in range(x4.shape[1])]\n",
    "\n",
    "print(vif_data)"
   ]
  },
  {
   "cell_type": "markdown",
   "id": "d4c4b37a",
   "metadata": {},
   "source": [
    "## here even though the previous model performed better than before,there are some possible issues suggested by the OLS summary ,multicollinearity and condition no.being the two of them.we've checked the vif(used for checking the multicollinearity) and it seems pretty good ,all below 5,so we can say that there are no multicollinearity issues but there could be reasons of scaling isssues or weak relations among the predictors which could cause the condition no.to be large,so we can apply standardization tp our x variables for our next model and see the summary again."
   ]
  },
  {
   "cell_type": "code",
   "execution_count": 106,
   "id": "36c65de1",
   "metadata": {},
   "outputs": [],
   "source": [
    "#----------------------------------------------------------------------------------------------------------------------"
   ]
  },
  {
   "cell_type": "markdown",
   "id": "02c6d554",
   "metadata": {},
   "source": [
    "# Second Model-Train Test Split and Validation set Approach"
   ]
  },
  {
   "cell_type": "markdown",
   "id": "81c4c17c",
   "metadata": {},
   "source": [
    "before we haven't considered string values so now we will preprocess the data and apply some transformations on the entire x variables "
   ]
  },
  {
   "cell_type": "code",
   "execution_count": 107,
   "id": "5bfde312",
   "metadata": {},
   "outputs": [],
   "source": [
    "from sklearn.preprocessing import StandardScaler,LabelEncoder"
   ]
  },
  {
   "cell_type": "code",
   "execution_count": 108,
   "id": "d5d46c6f",
   "metadata": {},
   "outputs": [],
   "source": [
    "SS=StandardScaler()"
   ]
  },
  {
   "cell_type": "code",
   "execution_count": 109,
   "id": "ffa83e39",
   "metadata": {},
   "outputs": [
    {
     "data": {
      "text/html": [
       "<div>\n",
       "<style scoped>\n",
       "    .dataframe tbody tr th:only-of-type {\n",
       "        vertical-align: middle;\n",
       "    }\n",
       "\n",
       "    .dataframe tbody tr th {\n",
       "        vertical-align: top;\n",
       "    }\n",
       "\n",
       "    .dataframe thead th {\n",
       "        text-align: right;\n",
       "    }\n",
       "</style>\n",
       "<table border=\"1\" class=\"dataframe\">\n",
       "  <thead>\n",
       "    <tr style=\"text-align: right;\">\n",
       "      <th></th>\n",
       "      <th>age</th>\n",
       "      <th>KM</th>\n",
       "      <th>HP</th>\n",
       "      <th>Automatic</th>\n",
       "      <th>cylinVolume</th>\n",
       "      <th>Doors</th>\n",
       "      <th>Cylinders</th>\n",
       "      <th>Gears</th>\n",
       "      <th>Weight</th>\n",
       "    </tr>\n",
       "  </thead>\n",
       "  <tbody>\n",
       "    <tr>\n",
       "      <th>0</th>\n",
       "      <td>23</td>\n",
       "      <td>46986.000000</td>\n",
       "      <td>90</td>\n",
       "      <td>0</td>\n",
       "      <td>2000</td>\n",
       "      <td>3</td>\n",
       "      <td>4</td>\n",
       "      <td>5</td>\n",
       "      <td>1165</td>\n",
       "    </tr>\n",
       "    <tr>\n",
       "      <th>1</th>\n",
       "      <td>23</td>\n",
       "      <td>72937.000000</td>\n",
       "      <td>90</td>\n",
       "      <td>0</td>\n",
       "      <td>2000</td>\n",
       "      <td>3</td>\n",
       "      <td>4</td>\n",
       "      <td>5</td>\n",
       "      <td>1165</td>\n",
       "    </tr>\n",
       "    <tr>\n",
       "      <th>2</th>\n",
       "      <td>24</td>\n",
       "      <td>41711.000000</td>\n",
       "      <td>90</td>\n",
       "      <td>0</td>\n",
       "      <td>2000</td>\n",
       "      <td>3</td>\n",
       "      <td>4</td>\n",
       "      <td>5</td>\n",
       "      <td>1165</td>\n",
       "    </tr>\n",
       "    <tr>\n",
       "      <th>3</th>\n",
       "      <td>26</td>\n",
       "      <td>48000.000000</td>\n",
       "      <td>90</td>\n",
       "      <td>0</td>\n",
       "      <td>2000</td>\n",
       "      <td>3</td>\n",
       "      <td>4</td>\n",
       "      <td>5</td>\n",
       "      <td>1165</td>\n",
       "    </tr>\n",
       "    <tr>\n",
       "      <th>4</th>\n",
       "      <td>30</td>\n",
       "      <td>38500.000000</td>\n",
       "      <td>90</td>\n",
       "      <td>0</td>\n",
       "      <td>2000</td>\n",
       "      <td>3</td>\n",
       "      <td>4</td>\n",
       "      <td>5</td>\n",
       "      <td>1170</td>\n",
       "    </tr>\n",
       "    <tr>\n",
       "      <th>...</th>\n",
       "      <td>...</td>\n",
       "      <td>...</td>\n",
       "      <td>...</td>\n",
       "      <td>...</td>\n",
       "      <td>...</td>\n",
       "      <td>...</td>\n",
       "      <td>...</td>\n",
       "      <td>...</td>\n",
       "      <td>...</td>\n",
       "    </tr>\n",
       "    <tr>\n",
       "      <th>1431</th>\n",
       "      <td>69</td>\n",
       "      <td>66725.953423</td>\n",
       "      <td>86</td>\n",
       "      <td>0</td>\n",
       "      <td>1300</td>\n",
       "      <td>3</td>\n",
       "      <td>4</td>\n",
       "      <td>5</td>\n",
       "      <td>1025</td>\n",
       "    </tr>\n",
       "    <tr>\n",
       "      <th>1432</th>\n",
       "      <td>72</td>\n",
       "      <td>66725.953423</td>\n",
       "      <td>86</td>\n",
       "      <td>0</td>\n",
       "      <td>1300</td>\n",
       "      <td>3</td>\n",
       "      <td>4</td>\n",
       "      <td>5</td>\n",
       "      <td>1015</td>\n",
       "    </tr>\n",
       "    <tr>\n",
       "      <th>1433</th>\n",
       "      <td>71</td>\n",
       "      <td>66725.953423</td>\n",
       "      <td>86</td>\n",
       "      <td>0</td>\n",
       "      <td>1300</td>\n",
       "      <td>3</td>\n",
       "      <td>4</td>\n",
       "      <td>5</td>\n",
       "      <td>1015</td>\n",
       "    </tr>\n",
       "    <tr>\n",
       "      <th>1434</th>\n",
       "      <td>70</td>\n",
       "      <td>66725.953423</td>\n",
       "      <td>86</td>\n",
       "      <td>0</td>\n",
       "      <td>1300</td>\n",
       "      <td>3</td>\n",
       "      <td>4</td>\n",
       "      <td>5</td>\n",
       "      <td>1015</td>\n",
       "    </tr>\n",
       "    <tr>\n",
       "      <th>1435</th>\n",
       "      <td>76</td>\n",
       "      <td>66725.953423</td>\n",
       "      <td>110</td>\n",
       "      <td>0</td>\n",
       "      <td>1600</td>\n",
       "      <td>5</td>\n",
       "      <td>4</td>\n",
       "      <td>5</td>\n",
       "      <td>1114</td>\n",
       "    </tr>\n",
       "  </tbody>\n",
       "</table>\n",
       "<p>1436 rows × 9 columns</p>\n",
       "</div>"
      ],
      "text/plain": [
       "      age            KM   HP  Automatic  cylinVolume  Doors  Cylinders  Gears  \\\n",
       "0      23  46986.000000   90          0         2000      3          4      5   \n",
       "1      23  72937.000000   90          0         2000      3          4      5   \n",
       "2      24  41711.000000   90          0         2000      3          4      5   \n",
       "3      26  48000.000000   90          0         2000      3          4      5   \n",
       "4      30  38500.000000   90          0         2000      3          4      5   \n",
       "...   ...           ...  ...        ...          ...    ...        ...    ...   \n",
       "1431   69  66725.953423   86          0         1300      3          4      5   \n",
       "1432   72  66725.953423   86          0         1300      3          4      5   \n",
       "1433   71  66725.953423   86          0         1300      3          4      5   \n",
       "1434   70  66725.953423   86          0         1300      3          4      5   \n",
       "1435   76  66725.953423  110          0         1600      5          4      5   \n",
       "\n",
       "      Weight  \n",
       "0       1165  \n",
       "1       1165  \n",
       "2       1165  \n",
       "3       1165  \n",
       "4       1170  \n",
       "...      ...  \n",
       "1431    1025  \n",
       "1432    1015  \n",
       "1433    1015  \n",
       "1434    1015  \n",
       "1435    1114  \n",
       "\n",
       "[1436 rows x 9 columns]"
      ]
     },
     "execution_count": 109,
     "metadata": {},
     "output_type": "execute_result"
    }
   ],
   "source": [
    "X=df.iloc[:, 1:11].drop(df.columns[3], axis=1)\n",
    "X=pd.DataFrame(X)\n",
    "X"
   ]
  },
  {
   "cell_type": "code",
   "execution_count": 110,
   "id": "722a1d9c",
   "metadata": {},
   "outputs": [],
   "source": [
    "x=df[\"Fuel_Type\"]"
   ]
  },
  {
   "cell_type": "code",
   "execution_count": 111,
   "id": "b89cc0d9",
   "metadata": {},
   "outputs": [],
   "source": [
    "LE=LabelEncoder()"
   ]
  },
  {
   "cell_type": "code",
   "execution_count": 112,
   "id": "2f255358",
   "metadata": {},
   "outputs": [
    {
     "data": {
      "text/html": [
       "<div>\n",
       "<style scoped>\n",
       "    .dataframe tbody tr th:only-of-type {\n",
       "        vertical-align: middle;\n",
       "    }\n",
       "\n",
       "    .dataframe tbody tr th {\n",
       "        vertical-align: top;\n",
       "    }\n",
       "\n",
       "    .dataframe thead th {\n",
       "        text-align: right;\n",
       "    }\n",
       "</style>\n",
       "<table border=\"1\" class=\"dataframe\">\n",
       "  <thead>\n",
       "    <tr style=\"text-align: right;\">\n",
       "      <th></th>\n",
       "      <th>FuelType</th>\n",
       "    </tr>\n",
       "  </thead>\n",
       "  <tbody>\n",
       "    <tr>\n",
       "      <th>0</th>\n",
       "      <td>1</td>\n",
       "    </tr>\n",
       "    <tr>\n",
       "      <th>1</th>\n",
       "      <td>1</td>\n",
       "    </tr>\n",
       "    <tr>\n",
       "      <th>2</th>\n",
       "      <td>1</td>\n",
       "    </tr>\n",
       "    <tr>\n",
       "      <th>3</th>\n",
       "      <td>1</td>\n",
       "    </tr>\n",
       "    <tr>\n",
       "      <th>4</th>\n",
       "      <td>1</td>\n",
       "    </tr>\n",
       "    <tr>\n",
       "      <th>...</th>\n",
       "      <td>...</td>\n",
       "    </tr>\n",
       "    <tr>\n",
       "      <th>1431</th>\n",
       "      <td>2</td>\n",
       "    </tr>\n",
       "    <tr>\n",
       "      <th>1432</th>\n",
       "      <td>2</td>\n",
       "    </tr>\n",
       "    <tr>\n",
       "      <th>1433</th>\n",
       "      <td>2</td>\n",
       "    </tr>\n",
       "    <tr>\n",
       "      <th>1434</th>\n",
       "      <td>2</td>\n",
       "    </tr>\n",
       "    <tr>\n",
       "      <th>1435</th>\n",
       "      <td>2</td>\n",
       "    </tr>\n",
       "  </tbody>\n",
       "</table>\n",
       "<p>1436 rows × 1 columns</p>\n",
       "</div>"
      ],
      "text/plain": [
       "      FuelType\n",
       "0            1\n",
       "1            1\n",
       "2            1\n",
       "3            1\n",
       "4            1\n",
       "...        ...\n",
       "1431         2\n",
       "1432         2\n",
       "1433         2\n",
       "1434         2\n",
       "1435         2\n",
       "\n",
       "[1436 rows x 1 columns]"
      ]
     },
     "execution_count": 112,
     "metadata": {},
     "output_type": "execute_result"
    }
   ],
   "source": [
    "x=LE.fit_transform(x)\n",
    "x=pd.DataFrame(x,columns=[\"FuelType\"])\n",
    "x#Label Encoding the object values"
   ]
  },
  {
   "cell_type": "code",
   "execution_count": 113,
   "id": "d2cb510b",
   "metadata": {},
   "outputs": [],
   "source": [
    "SX=SS.fit_transform(X)\n",
    "SX=pd.DataFrame(SX)"
   ]
  },
  {
   "cell_type": "code",
   "execution_count": 114,
   "id": "1ddcd643",
   "metadata": {},
   "outputs": [
    {
     "data": {
      "text/html": [
       "<div>\n",
       "<style scoped>\n",
       "    .dataframe tbody tr th:only-of-type {\n",
       "        vertical-align: middle;\n",
       "    }\n",
       "\n",
       "    .dataframe tbody tr th {\n",
       "        vertical-align: top;\n",
       "    }\n",
       "\n",
       "    .dataframe thead th {\n",
       "        text-align: right;\n",
       "    }\n",
       "</style>\n",
       "<table border=\"1\" class=\"dataframe\">\n",
       "  <thead>\n",
       "    <tr style=\"text-align: right;\">\n",
       "      <th></th>\n",
       "      <th>0</th>\n",
       "      <th>1</th>\n",
       "      <th>2</th>\n",
       "      <th>3</th>\n",
       "      <th>4</th>\n",
       "      <th>5</th>\n",
       "      <th>6</th>\n",
       "      <th>7</th>\n",
       "      <th>8</th>\n",
       "      <th>FuelType</th>\n",
       "    </tr>\n",
       "  </thead>\n",
       "  <tbody>\n",
       "    <tr>\n",
       "      <th>0</th>\n",
       "      <td>-1.771966</td>\n",
       "      <td>-0.579896</td>\n",
       "      <td>-0.768042</td>\n",
       "      <td>-0.242893</td>\n",
       "      <td>0.997419</td>\n",
       "      <td>-1.085139</td>\n",
       "      <td>0.0</td>\n",
       "      <td>-0.140425</td>\n",
       "      <td>1.758561</td>\n",
       "      <td>1</td>\n",
       "    </tr>\n",
       "    <tr>\n",
       "      <th>1</th>\n",
       "      <td>-1.771966</td>\n",
       "      <td>0.182460</td>\n",
       "      <td>-0.768042</td>\n",
       "      <td>-0.242893</td>\n",
       "      <td>0.997419</td>\n",
       "      <td>-1.085139</td>\n",
       "      <td>0.0</td>\n",
       "      <td>-0.140425</td>\n",
       "      <td>1.758561</td>\n",
       "      <td>1</td>\n",
       "    </tr>\n",
       "    <tr>\n",
       "      <th>2</th>\n",
       "      <td>-1.718184</td>\n",
       "      <td>-0.734858</td>\n",
       "      <td>-0.768042</td>\n",
       "      <td>-0.242893</td>\n",
       "      <td>0.997419</td>\n",
       "      <td>-1.085139</td>\n",
       "      <td>0.0</td>\n",
       "      <td>-0.140425</td>\n",
       "      <td>1.758561</td>\n",
       "      <td>1</td>\n",
       "    </tr>\n",
       "    <tr>\n",
       "      <th>3</th>\n",
       "      <td>-1.610620</td>\n",
       "      <td>-0.550108</td>\n",
       "      <td>-0.768042</td>\n",
       "      <td>-0.242893</td>\n",
       "      <td>0.997419</td>\n",
       "      <td>-1.085139</td>\n",
       "      <td>0.0</td>\n",
       "      <td>-0.140425</td>\n",
       "      <td>1.758561</td>\n",
       "      <td>1</td>\n",
       "    </tr>\n",
       "    <tr>\n",
       "      <th>4</th>\n",
       "      <td>-1.395491</td>\n",
       "      <td>-0.829187</td>\n",
       "      <td>-0.768042</td>\n",
       "      <td>-0.242893</td>\n",
       "      <td>0.997419</td>\n",
       "      <td>-1.085139</td>\n",
       "      <td>0.0</td>\n",
       "      <td>-0.140425</td>\n",
       "      <td>1.853577</td>\n",
       "      <td>1</td>\n",
       "    </tr>\n",
       "    <tr>\n",
       "      <th>...</th>\n",
       "      <td>...</td>\n",
       "      <td>...</td>\n",
       "      <td>...</td>\n",
       "      <td>...</td>\n",
       "      <td>...</td>\n",
       "      <td>...</td>\n",
       "      <td>...</td>\n",
       "      <td>...</td>\n",
       "      <td>...</td>\n",
       "      <td>...</td>\n",
       "    </tr>\n",
       "    <tr>\n",
       "      <th>1431</th>\n",
       "      <td>0.702015</td>\n",
       "      <td>0.000000</td>\n",
       "      <td>-1.035138</td>\n",
       "      <td>-0.242893</td>\n",
       "      <td>-0.652594</td>\n",
       "      <td>-1.085139</td>\n",
       "      <td>0.0</td>\n",
       "      <td>-0.140425</td>\n",
       "      <td>-0.901883</td>\n",
       "      <td>2</td>\n",
       "    </tr>\n",
       "    <tr>\n",
       "      <th>1432</th>\n",
       "      <td>0.863362</td>\n",
       "      <td>0.000000</td>\n",
       "      <td>-1.035138</td>\n",
       "      <td>-0.242893</td>\n",
       "      <td>-0.652594</td>\n",
       "      <td>-1.085139</td>\n",
       "      <td>0.0</td>\n",
       "      <td>-0.140425</td>\n",
       "      <td>-1.091915</td>\n",
       "      <td>2</td>\n",
       "    </tr>\n",
       "    <tr>\n",
       "      <th>1433</th>\n",
       "      <td>0.809579</td>\n",
       "      <td>0.000000</td>\n",
       "      <td>-1.035138</td>\n",
       "      <td>-0.242893</td>\n",
       "      <td>-0.652594</td>\n",
       "      <td>-1.085139</td>\n",
       "      <td>0.0</td>\n",
       "      <td>-0.140425</td>\n",
       "      <td>-1.091915</td>\n",
       "      <td>2</td>\n",
       "    </tr>\n",
       "    <tr>\n",
       "      <th>1434</th>\n",
       "      <td>0.755797</td>\n",
       "      <td>0.000000</td>\n",
       "      <td>-1.035138</td>\n",
       "      <td>-0.242893</td>\n",
       "      <td>-0.652594</td>\n",
       "      <td>-1.085139</td>\n",
       "      <td>0.0</td>\n",
       "      <td>-0.140425</td>\n",
       "      <td>-1.091915</td>\n",
       "      <td>2</td>\n",
       "    </tr>\n",
       "    <tr>\n",
       "      <th>1435</th>\n",
       "      <td>1.078490</td>\n",
       "      <td>0.000000</td>\n",
       "      <td>0.567440</td>\n",
       "      <td>-0.242893</td>\n",
       "      <td>0.054555</td>\n",
       "      <td>1.014941</td>\n",
       "      <td>0.0</td>\n",
       "      <td>-0.140425</td>\n",
       "      <td>0.789399</td>\n",
       "      <td>2</td>\n",
       "    </tr>\n",
       "  </tbody>\n",
       "</table>\n",
       "<p>1436 rows × 10 columns</p>\n",
       "</div>"
      ],
      "text/plain": [
       "             0         1         2         3         4         5    6  \\\n",
       "0    -1.771966 -0.579896 -0.768042 -0.242893  0.997419 -1.085139  0.0   \n",
       "1    -1.771966  0.182460 -0.768042 -0.242893  0.997419 -1.085139  0.0   \n",
       "2    -1.718184 -0.734858 -0.768042 -0.242893  0.997419 -1.085139  0.0   \n",
       "3    -1.610620 -0.550108 -0.768042 -0.242893  0.997419 -1.085139  0.0   \n",
       "4    -1.395491 -0.829187 -0.768042 -0.242893  0.997419 -1.085139  0.0   \n",
       "...        ...       ...       ...       ...       ...       ...  ...   \n",
       "1431  0.702015  0.000000 -1.035138 -0.242893 -0.652594 -1.085139  0.0   \n",
       "1432  0.863362  0.000000 -1.035138 -0.242893 -0.652594 -1.085139  0.0   \n",
       "1433  0.809579  0.000000 -1.035138 -0.242893 -0.652594 -1.085139  0.0   \n",
       "1434  0.755797  0.000000 -1.035138 -0.242893 -0.652594 -1.085139  0.0   \n",
       "1435  1.078490  0.000000  0.567440 -0.242893  0.054555  1.014941  0.0   \n",
       "\n",
       "             7         8  FuelType  \n",
       "0    -0.140425  1.758561         1  \n",
       "1    -0.140425  1.758561         1  \n",
       "2    -0.140425  1.758561         1  \n",
       "3    -0.140425  1.758561         1  \n",
       "4    -0.140425  1.853577         1  \n",
       "...        ...       ...       ...  \n",
       "1431 -0.140425 -0.901883         2  \n",
       "1432 -0.140425 -1.091915         2  \n",
       "1433 -0.140425 -1.091915         2  \n",
       "1434 -0.140425 -1.091915         2  \n",
       "1435 -0.140425  0.789399         2  \n",
       "\n",
       "[1436 rows x 10 columns]"
      ]
     },
     "execution_count": 114,
     "metadata": {},
     "output_type": "execute_result"
    }
   ],
   "source": [
    "XX=pd.concat([SX,x],axis=1)\n",
    "XX"
   ]
  },
  {
   "cell_type": "code",
   "execution_count": 115,
   "id": "03860105",
   "metadata": {},
   "outputs": [
    {
     "name": "stdout",
     "output_type": "stream",
     "text": [
      "[<class 'int'>, <class 'int'>, <class 'int'>, <class 'int'>, <class 'int'>, <class 'int'>, <class 'int'>, <class 'int'>, <class 'int'>, <class 'str'>]\n"
     ]
    }
   ],
   "source": [
    "print([type(col) for col in XX.columns])\n",
    "#one column name in our final standardized sata ,its a str "
   ]
  },
  {
   "cell_type": "code",
   "execution_count": 116,
   "id": "3f59c954",
   "metadata": {},
   "outputs": [
    {
     "data": {
      "text/plain": [
       "Index([0, 1, 2, 3, 4, 5, 6, 7, 8, 'FuelType'], dtype='object')"
      ]
     },
     "execution_count": 116,
     "metadata": {},
     "output_type": "execute_result"
    }
   ],
   "source": [
    "XX.columns"
   ]
  },
  {
   "cell_type": "code",
   "execution_count": 117,
   "id": "bfb984e4",
   "metadata": {},
   "outputs": [],
   "source": [
    "XX.rename(columns={'FuelType': 9}, inplace=True)\n",
    "#rename the column to an integer to convert the datatype"
   ]
  },
  {
   "cell_type": "code",
   "execution_count": 118,
   "id": "8b5311ec",
   "metadata": {},
   "outputs": [
    {
     "data": {
      "text/plain": [
       "Index([0, 1, 2, 3, 4, 5, 6, 7, 8, 9], dtype='int64')"
      ]
     },
     "execution_count": 118,
     "metadata": {},
     "output_type": "execute_result"
    }
   ],
   "source": [
    "XX.columns"
   ]
  },
  {
   "cell_type": "code",
   "execution_count": 119,
   "id": "02065291",
   "metadata": {},
   "outputs": [
    {
     "name": "stdout",
     "output_type": "stream",
     "text": [
      "[<class 'int'>, <class 'int'>, <class 'int'>, <class 'int'>, <class 'int'>, <class 'int'>, <class 'int'>, <class 'int'>, <class 'int'>, <class 'int'>]\n"
     ]
    }
   ],
   "source": [
    "print([type(col) for col in XX.columns])#column name datatype coverted"
   ]
  },
  {
   "cell_type": "code",
   "execution_count": 120,
   "id": "458a8082",
   "metadata": {},
   "outputs": [],
   "source": [
    "from sklearn.model_selection import train_test_split"
   ]
  },
  {
   "cell_type": "code",
   "execution_count": 121,
   "id": "11bdb797",
   "metadata": {},
   "outputs": [],
   "source": [
    "X_train,X_test,Y_train,Y_test=train_test_split(XX,Y,test_size=0.30)"
   ]
  },
  {
   "cell_type": "code",
   "execution_count": 122,
   "id": "bf972b9e",
   "metadata": {},
   "outputs": [
    {
     "data": {
      "text/plain": [
       "(1005, 10)"
      ]
     },
     "execution_count": 122,
     "metadata": {},
     "output_type": "execute_result"
    }
   ],
   "source": [
    "X_train.shape"
   ]
  },
  {
   "cell_type": "code",
   "execution_count": 123,
   "id": "b33a05d7",
   "metadata": {},
   "outputs": [
    {
     "data": {
      "text/plain": [
       "(431, 10)"
      ]
     },
     "execution_count": 123,
     "metadata": {},
     "output_type": "execute_result"
    }
   ],
   "source": [
    "X_test.shape"
   ]
  },
  {
   "cell_type": "code",
   "execution_count": 124,
   "id": "555e8001",
   "metadata": {},
   "outputs": [
    {
     "data": {
      "text/plain": [
       "(1005,)"
      ]
     },
     "execution_count": 124,
     "metadata": {},
     "output_type": "execute_result"
    }
   ],
   "source": [
    "Y_train.shape"
   ]
  },
  {
   "cell_type": "code",
   "execution_count": 125,
   "id": "86459e26",
   "metadata": {},
   "outputs": [
    {
     "data": {
      "text/plain": [
       "(431,)"
      ]
     },
     "execution_count": 125,
     "metadata": {},
     "output_type": "execute_result"
    }
   ],
   "source": [
    "Y_test.shape"
   ]
  },
  {
   "cell_type": "code",
   "execution_count": 126,
   "id": "71e1545c",
   "metadata": {},
   "outputs": [
    {
     "data": {
      "text/html": [
       "<style>#sk-container-id-5 {color: black;}#sk-container-id-5 pre{padding: 0;}#sk-container-id-5 div.sk-toggleable {background-color: white;}#sk-container-id-5 label.sk-toggleable__label {cursor: pointer;display: block;width: 100%;margin-bottom: 0;padding: 0.3em;box-sizing: border-box;text-align: center;}#sk-container-id-5 label.sk-toggleable__label-arrow:before {content: \"▸\";float: left;margin-right: 0.25em;color: #696969;}#sk-container-id-5 label.sk-toggleable__label-arrow:hover:before {color: black;}#sk-container-id-5 div.sk-estimator:hover label.sk-toggleable__label-arrow:before {color: black;}#sk-container-id-5 div.sk-toggleable__content {max-height: 0;max-width: 0;overflow: hidden;text-align: left;background-color: #f0f8ff;}#sk-container-id-5 div.sk-toggleable__content pre {margin: 0.2em;color: black;border-radius: 0.25em;background-color: #f0f8ff;}#sk-container-id-5 input.sk-toggleable__control:checked~div.sk-toggleable__content {max-height: 200px;max-width: 100%;overflow: auto;}#sk-container-id-5 input.sk-toggleable__control:checked~label.sk-toggleable__label-arrow:before {content: \"▾\";}#sk-container-id-5 div.sk-estimator input.sk-toggleable__control:checked~label.sk-toggleable__label {background-color: #d4ebff;}#sk-container-id-5 div.sk-label input.sk-toggleable__control:checked~label.sk-toggleable__label {background-color: #d4ebff;}#sk-container-id-5 input.sk-hidden--visually {border: 0;clip: rect(1px 1px 1px 1px);clip: rect(1px, 1px, 1px, 1px);height: 1px;margin: -1px;overflow: hidden;padding: 0;position: absolute;width: 1px;}#sk-container-id-5 div.sk-estimator {font-family: monospace;background-color: #f0f8ff;border: 1px dotted black;border-radius: 0.25em;box-sizing: border-box;margin-bottom: 0.5em;}#sk-container-id-5 div.sk-estimator:hover {background-color: #d4ebff;}#sk-container-id-5 div.sk-parallel-item::after {content: \"\";width: 100%;border-bottom: 1px solid gray;flex-grow: 1;}#sk-container-id-5 div.sk-label:hover label.sk-toggleable__label {background-color: #d4ebff;}#sk-container-id-5 div.sk-serial::before {content: \"\";position: absolute;border-left: 1px solid gray;box-sizing: border-box;top: 0;bottom: 0;left: 50%;z-index: 0;}#sk-container-id-5 div.sk-serial {display: flex;flex-direction: column;align-items: center;background-color: white;padding-right: 0.2em;padding-left: 0.2em;position: relative;}#sk-container-id-5 div.sk-item {position: relative;z-index: 1;}#sk-container-id-5 div.sk-parallel {display: flex;align-items: stretch;justify-content: center;background-color: white;position: relative;}#sk-container-id-5 div.sk-item::before, #sk-container-id-5 div.sk-parallel-item::before {content: \"\";position: absolute;border-left: 1px solid gray;box-sizing: border-box;top: 0;bottom: 0;left: 50%;z-index: -1;}#sk-container-id-5 div.sk-parallel-item {display: flex;flex-direction: column;z-index: 1;position: relative;background-color: white;}#sk-container-id-5 div.sk-parallel-item:first-child::after {align-self: flex-end;width: 50%;}#sk-container-id-5 div.sk-parallel-item:last-child::after {align-self: flex-start;width: 50%;}#sk-container-id-5 div.sk-parallel-item:only-child::after {width: 0;}#sk-container-id-5 div.sk-dashed-wrapped {border: 1px dashed gray;margin: 0 0.4em 0.5em 0.4em;box-sizing: border-box;padding-bottom: 0.4em;background-color: white;}#sk-container-id-5 div.sk-label label {font-family: monospace;font-weight: bold;display: inline-block;line-height: 1.2em;}#sk-container-id-5 div.sk-label-container {text-align: center;}#sk-container-id-5 div.sk-container {/* jupyter's `normalize.less` sets `[hidden] { display: none; }` but bootstrap.min.css set `[hidden] { display: none !important; }` so we also need the `!important` here to be able to override the default hidden behavior on the sphinx rendered scikit-learn.org. See: https://github.com/scikit-learn/scikit-learn/issues/21755 */display: inline-block !important;position: relative;}#sk-container-id-5 div.sk-text-repr-fallback {display: none;}</style><div id=\"sk-container-id-5\" class=\"sk-top-container\"><div class=\"sk-text-repr-fallback\"><pre>LinearRegression()</pre><b>In a Jupyter environment, please rerun this cell to show the HTML representation or trust the notebook. <br />On GitHub, the HTML representation is unable to render, please try loading this page with nbviewer.org.</b></div><div class=\"sk-container\" hidden><div class=\"sk-item\"><div class=\"sk-estimator sk-toggleable\"><input class=\"sk-toggleable__control sk-hidden--visually\" id=\"sk-estimator-id-5\" type=\"checkbox\" checked><label for=\"sk-estimator-id-5\" class=\"sk-toggleable__label sk-toggleable__label-arrow\">LinearRegression</label><div class=\"sk-toggleable__content\"><pre>LinearRegression()</pre></div></div></div></div></div>"
      ],
      "text/plain": [
       "LinearRegression()"
      ]
     },
     "execution_count": 126,
     "metadata": {},
     "output_type": "execute_result"
    }
   ],
   "source": [
    "LR.fit(X_train,Y_train)"
   ]
  },
  {
   "cell_type": "code",
   "execution_count": 127,
   "id": "80a25f75",
   "metadata": {},
   "outputs": [],
   "source": [
    "ytrainpred=LR.predict(X_train)\n",
    "ytestpred=LR.predict(X_test)"
   ]
  },
  {
   "cell_type": "code",
   "execution_count": 128,
   "id": "64611b5c",
   "metadata": {},
   "outputs": [],
   "source": [
    "training_error=mean_squared_error(Y_train,ytrainpred).round(3)\n",
    "training_accuracy=r2_score(Y_train,ytrainpred).round(3)"
   ]
  },
  {
   "cell_type": "code",
   "execution_count": 129,
   "id": "208fe44a",
   "metadata": {},
   "outputs": [],
   "source": [
    "test_error=mean_squared_error(Y_test,ytestpred).round(3)\n",
    "test_accuracy=r2_score(Y_test,ytestpred).round(3)"
   ]
  },
  {
   "cell_type": "code",
   "execution_count": 130,
   "id": "329b05b4",
   "metadata": {},
   "outputs": [
    {
     "name": "stdout",
     "output_type": "stream",
     "text": [
      "Training Error : 1495537.094\n",
      "Test Error : 9888271.488\n",
      "Training Accuracy : 0.884\n",
      "Test Accuracy : 0.284\n"
     ]
    }
   ],
   "source": [
    "print(\"Training Error :\",training_error)\n",
    "print(\"Test Error :\",test_error)\n",
    "print(\"Training Accuracy :\",training_accuracy)\n",
    "print(\"Test Accuracy :\",test_accuracy)"
   ]
  },
  {
   "cell_type": "markdown",
   "id": "aa9bb3b8",
   "metadata": {},
   "source": [
    "A terrible Model,it hasn't been trained properly ,train error and test error are way too high."
   ]
  },
  {
   "cell_type": "markdown",
   "id": "07732498",
   "metadata": {},
   "source": [
    "## let's try data validation"
   ]
  },
  {
   "cell_type": "code",
   "execution_count": 131,
   "id": "9179b8da",
   "metadata": {},
   "outputs": [],
   "source": [
    "avgtrain_accuracy=[]#creating an empty list to collectr all the train  \n",
    "#accuracy scores so that we get the avg of all 100 iterations\n",
    "avgtest_accuracy=[]#creating an empty list to collectr all test accuracy \n",
    "#scores so that we get the avg of all 100 iterations"
   ]
  },
  {
   "cell_type": "code",
   "execution_count": 132,
   "id": "ac0ea54d",
   "metadata": {},
   "outputs": [],
   "source": [
    "avgtrainerror=[]\n",
    "avgtesterror=[]"
   ]
  },
  {
   "cell_type": "code",
   "execution_count": 133,
   "id": "1320ac4f",
   "metadata": {},
   "outputs": [
    {
     "name": "stdout",
     "output_type": "stream",
     "text": [
      "Average Train accuracy score is:  0.843\n",
      "Average Test accuracy score is:  0.795\n",
      "AVG Training Error : 1636696.633\n",
      "AVG Test Error : 30207964.766\n"
     ]
    }
   ],
   "source": [
    "for i in range(1,101):#for 100 iterations\n",
    "    X_train,X_test,Y_train,Y_test=train_test_split(XX,Y,test_size=0.30,random_state=i)\n",
    "    #random_state is given as i\n",
    "    LR.fit(X_train,Y_train)\n",
    "    ytrain_pred=LR.predict(X_train)\n",
    "    ytest_pred=LR.predict(X_test)\n",
    "    avgtrain_accuracy.append(r2_score(ytrain_pred,Y_train))\n",
    "#adding to empty list\n",
    "    avgtest_accuracy.append(r2_score(ytest_pred,Y_test))\n",
    "#adding to empty list\n",
    "training_error=mean_squared_error(Y_train,ytrain_pred).round(3)\n",
    "test_error=mean_squared_error(Y_test,ytestpred).round(3)\n",
    "#adding to empty list\n",
    "avgtrainerror.append(training_error)\n",
    "avgtesterror.append(test_error)\n",
    "print(\"Average Train accuracy score is: \",np.mean(avgtrain_accuracy).round(3))\n",
    "print(\"Average Test accuracy score is: \",np.mean(avgtest_accuracy).round(3))\n",
    "print(\"AVG Training Error :\",np.mean(avgtrainerror))\n",
    "print(\"AVG Test Error :\",np.mean(avgtesterror))"
   ]
  },
  {
   "cell_type": "markdown",
   "id": "d78ecfae",
   "metadata": {},
   "source": [
    "## its the same bad model"
   ]
  },
  {
   "cell_type": "code",
   "execution_count": 134,
   "id": "2ea20e66",
   "metadata": {},
   "outputs": [],
   "source": [
    "#we'll try changing the test size and see how the model reacts"
   ]
  },
  {
   "cell_type": "code",
   "execution_count": 135,
   "id": "d4a72de9",
   "metadata": {},
   "outputs": [],
   "source": [
    "avgtrain1_accuracy=[]#creating an empty list again to collectr all the train  \n",
    "#accuracy scores so that we get the avg of all 100 iterations\n",
    "avgtest1_accuracy=[]#creating an empty list again to collectr all test accuracy \n",
    "#scores so that we get the avg of all 100 iterations"
   ]
  },
  {
   "cell_type": "code",
   "execution_count": 136,
   "id": "b5c005a9",
   "metadata": {},
   "outputs": [],
   "source": [
    "avgtrainerror1=[]\n",
    "avgtesterror1=[]"
   ]
  },
  {
   "cell_type": "code",
   "execution_count": 137,
   "id": "73596ce5",
   "metadata": {},
   "outputs": [
    {
     "name": "stdout",
     "output_type": "stream",
     "text": [
      "Average Train accuracy score is:  0.863\n",
      "Average Test accuracy score is:  0.831\n",
      "AVG Training Error : 1804770.25502\n",
      "AVG Test Error : 2195676.7351699998\n"
     ]
    }
   ],
   "source": [
    "for i in range(1, 101):\n",
    "    X_train, X_test, Y_train, Y_test = train_test_split(XX, Y, test_size=0.20, random_state=i)\n",
    "    LR.fit(X_train, Y_train)\n",
    "    \n",
    "    ytrain_pred = LR.predict(X_train)\n",
    "    ytest_pred = LR.predict(X_test)\n",
    "    \n",
    "    avgtrain1_accuracy.append(r2_score(Y_train, ytrain_pred))\n",
    "    avgtest1_accuracy.append(r2_score(Y_test, ytest_pred))\n",
    "    \n",
    "    training_error = mean_squared_error(Y_train, ytrain_pred).round(3)\n",
    "    test_error = mean_squared_error(Y_test, ytest_pred).round(3) \n",
    "    \n",
    "    avgtrainerror1.append(training_error)\n",
    "    avgtesterror1.append(test_error)\n",
    "\n",
    "print(\"Average Train accuracy score is: \", np.mean(avgtrain1_accuracy).round(3))\n",
    "print(\"Average Test accuracy score is: \", np.mean(avgtest1_accuracy).round(3))\n",
    "print(\"AVG Training Error :\", np.mean(avgtrainerror1))\n",
    "print(\"AVG Test Error :\", np.mean(avgtesterror1))"
   ]
  },
  {
   "cell_type": "markdown",
   "id": "12cc0477",
   "metadata": {},
   "source": [
    "ok it has a much better accuracy rate now but still we havent been able to reduce the error,lets try increasing the iterations and Lets check the ols summary of this"
   ]
  },
  {
   "cell_type": "code",
   "execution_count": 138,
   "id": "67ab6e54",
   "metadata": {},
   "outputs": [],
   "source": [
    "avgtrain2_accuracy=[]\n",
    "avgtest2_accuracy=[]\n",
    "avgtrainerror2=[]\n",
    "avgtesterror2=[]"
   ]
  },
  {
   "cell_type": "code",
   "execution_count": 139,
   "id": "2076e294",
   "metadata": {},
   "outputs": [
    {
     "name": "stdout",
     "output_type": "stream",
     "text": [
      "OLS Summary for iteration 1000\n",
      "                            OLS Regression Results                            \n",
      "==============================================================================\n",
      "Dep. Variable:                  Price   R-squared:                       0.859\n",
      "Model:                            OLS   Adj. R-squared:                  0.858\n",
      "Method:                 Least Squares   F-statistic:                     769.7\n",
      "Date:                Tue, 10 Sep 2024   Prob (F-statistic):               0.00\n",
      "Time:                        16:12:46   Log-Likelihood:                -9911.3\n",
      "No. Observations:                1148   AIC:                         1.984e+04\n",
      "Df Residuals:                    1138   BIC:                         1.989e+04\n",
      "Df Model:                           9                                         \n",
      "Covariance Type:            nonrobust                                         \n",
      "==============================================================================\n",
      "                 coef    std err          t      P>|t|      [0.025      0.975]\n",
      "------------------------------------------------------------------------------\n",
      "const       9571.5847    299.724     31.935      0.000    8983.511    1.02e+04\n",
      "0          -2388.0089     54.320    -43.962      0.000   -2494.587   -2281.430\n",
      "1           -540.8518     54.855     -9.860      0.000    -648.480    -433.224\n",
      "2            363.5914     49.401      7.360      0.000     266.664     460.518\n",
      "3            117.5018     42.764      2.748      0.006      33.596     201.408\n",
      "4            -19.8033     39.269     -0.504      0.614     -96.852      57.245\n",
      "5            -37.3319     44.027     -0.848      0.397    -123.715      49.051\n",
      "6          -1.427e-12    8.8e-14    -16.208      0.000    -1.6e-12   -1.25e-12\n",
      "7             92.6633     45.173      2.051      0.040       4.032     181.294\n",
      "8           1030.0579     59.274     17.378      0.000     913.759    1146.357\n",
      "9            624.7379    159.301      3.922      0.000     312.181     937.295\n",
      "==============================================================================\n",
      "Omnibus:                      176.379   Durbin-Watson:                   2.046\n",
      "Prob(Omnibus):                  0.000   Jarque-Bera (JB):             1465.129\n",
      "Skew:                          -0.433   Prob(JB):                         0.00\n",
      "Kurtosis:                       8.466   Cond. No.                     1.35e+18\n",
      "==============================================================================\n",
      "\n",
      "Notes:\n",
      "[1] Standard Errors assume that the covariance matrix of the errors is correctly specified.\n",
      "[2] The smallest eigenvalue is 2.92e-33. This might indicate that there are\n",
      "strong multicollinearity problems or that the design matrix is singular.\n",
      "Average Train accuracy score is:  0.863\n",
      "Average Test accuracy score is:  0.812\n",
      "AVG Training Error : 1795530.673672\n",
      "AVG Test Error : 2422065.1237270003\n"
     ]
    }
   ],
   "source": [
    "for i in range(1, 1001):\n",
    "    X_train, X_test, Y_train, Y_test = train_test_split(XX, Y, test_size=0.20, random_state=i)\n",
    "    LR.fit(X_train, Y_train)\n",
    "    \n",
    "    ytrain_pred = LR.predict(X_train)\n",
    "    ytest_pred = LR.predict(X_test)\n",
    "    \n",
    "    avgtrain2_accuracy.append(r2_score(Y_train, ytrain_pred))\n",
    "    avgtest2_accuracy.append(r2_score(Y_test, ytest_pred))\n",
    "    \n",
    "    training_error = mean_squared_error(Y_train, ytrain_pred).round(3)\n",
    "    test_error = mean_squared_error(Y_test, ytest_pred).round(3) \n",
    "    \n",
    "    avgtrainerror2.append(training_error)\n",
    "    avgtesterror2.append(test_error)\n",
    "    \n",
    "    X_train_sm = sm.add_constant(X_train)  # Adding a constant for the intercept\n",
    "    ols_model = sm.OLS(Y_train, X_train_sm).fit()\n",
    "    \n",
    "print(f\"OLS Summary for iteration {i}\")\n",
    "print(ols_model.summary())\n",
    "print(\"Average Train accuracy score is: \", np.mean(avgtrain2_accuracy).round(3))\n",
    "print(\"Average Test accuracy score is: \", np.mean(avgtest2_accuracy).round(3))\n",
    "print(\"AVG Training Error :\", np.mean(avgtrainerror2))\n",
    "print(\"AVG Test Error :\", np.mean(avgtesterror2))"
   ]
  },
  {
   "cell_type": "markdown",
   "id": "41c27c72",
   "metadata": {},
   "source": [
    "it has slighly increased in train accuracy and slightly decreased  in test accuracy\n",
    ",error is the same"
   ]
  },
  {
   "cell_type": "markdown",
   "id": "a2b688bd",
   "metadata": {},
   "source": [
    "### with our understanding the 5th variable has a very high pvalue,when it's supposed to be less than 0.05,but it's 0.614,which suggests that this variable is not of much significance.Even though the confidence interval is near to zero ,same goes for the 6th variable pvalue is greater than what it should be and confidence interval is very very low ,almost zero.so we can confidently say that these two variable does not have much effect in our price and is not doing much in the model significance"
   ]
  },
  {
   "cell_type": "markdown",
   "id": "e5832777",
   "metadata": {},
   "source": [
    "so we can say that doors and cylinders does not effect the price value of this car and we 'll try removing these variables now and see if our model acts any better."
   ]
  },
  {
   "cell_type": "code",
   "execution_count": 140,
   "id": "0e0961d0",
   "metadata": {},
   "outputs": [],
   "source": [
    "XX.drop(columns=[XX.columns[4],XX.columns[5]],inplace=True)"
   ]
  },
  {
   "cell_type": "code",
   "execution_count": 141,
   "id": "3e365e48",
   "metadata": {},
   "outputs": [
    {
     "data": {
      "text/html": [
       "<div>\n",
       "<style scoped>\n",
       "    .dataframe tbody tr th:only-of-type {\n",
       "        vertical-align: middle;\n",
       "    }\n",
       "\n",
       "    .dataframe tbody tr th {\n",
       "        vertical-align: top;\n",
       "    }\n",
       "\n",
       "    .dataframe thead th {\n",
       "        text-align: right;\n",
       "    }\n",
       "</style>\n",
       "<table border=\"1\" class=\"dataframe\">\n",
       "  <thead>\n",
       "    <tr style=\"text-align: right;\">\n",
       "      <th></th>\n",
       "      <th>0</th>\n",
       "      <th>1</th>\n",
       "      <th>2</th>\n",
       "      <th>3</th>\n",
       "      <th>6</th>\n",
       "      <th>7</th>\n",
       "      <th>8</th>\n",
       "      <th>9</th>\n",
       "    </tr>\n",
       "  </thead>\n",
       "  <tbody>\n",
       "    <tr>\n",
       "      <th>0</th>\n",
       "      <td>-1.771966</td>\n",
       "      <td>-0.579896</td>\n",
       "      <td>-0.768042</td>\n",
       "      <td>-0.242893</td>\n",
       "      <td>0.0</td>\n",
       "      <td>-0.140425</td>\n",
       "      <td>1.758561</td>\n",
       "      <td>1</td>\n",
       "    </tr>\n",
       "    <tr>\n",
       "      <th>1</th>\n",
       "      <td>-1.771966</td>\n",
       "      <td>0.182460</td>\n",
       "      <td>-0.768042</td>\n",
       "      <td>-0.242893</td>\n",
       "      <td>0.0</td>\n",
       "      <td>-0.140425</td>\n",
       "      <td>1.758561</td>\n",
       "      <td>1</td>\n",
       "    </tr>\n",
       "    <tr>\n",
       "      <th>2</th>\n",
       "      <td>-1.718184</td>\n",
       "      <td>-0.734858</td>\n",
       "      <td>-0.768042</td>\n",
       "      <td>-0.242893</td>\n",
       "      <td>0.0</td>\n",
       "      <td>-0.140425</td>\n",
       "      <td>1.758561</td>\n",
       "      <td>1</td>\n",
       "    </tr>\n",
       "    <tr>\n",
       "      <th>3</th>\n",
       "      <td>-1.610620</td>\n",
       "      <td>-0.550108</td>\n",
       "      <td>-0.768042</td>\n",
       "      <td>-0.242893</td>\n",
       "      <td>0.0</td>\n",
       "      <td>-0.140425</td>\n",
       "      <td>1.758561</td>\n",
       "      <td>1</td>\n",
       "    </tr>\n",
       "    <tr>\n",
       "      <th>4</th>\n",
       "      <td>-1.395491</td>\n",
       "      <td>-0.829187</td>\n",
       "      <td>-0.768042</td>\n",
       "      <td>-0.242893</td>\n",
       "      <td>0.0</td>\n",
       "      <td>-0.140425</td>\n",
       "      <td>1.853577</td>\n",
       "      <td>1</td>\n",
       "    </tr>\n",
       "  </tbody>\n",
       "</table>\n",
       "</div>"
      ],
      "text/plain": [
       "          0         1         2         3    6         7         8  9\n",
       "0 -1.771966 -0.579896 -0.768042 -0.242893  0.0 -0.140425  1.758561  1\n",
       "1 -1.771966  0.182460 -0.768042 -0.242893  0.0 -0.140425  1.758561  1\n",
       "2 -1.718184 -0.734858 -0.768042 -0.242893  0.0 -0.140425  1.758561  1\n",
       "3 -1.610620 -0.550108 -0.768042 -0.242893  0.0 -0.140425  1.758561  1\n",
       "4 -1.395491 -0.829187 -0.768042 -0.242893  0.0 -0.140425  1.853577  1"
      ]
     },
     "execution_count": 141,
     "metadata": {},
     "output_type": "execute_result"
    }
   ],
   "source": [
    "XX.head()"
   ]
  },
  {
   "cell_type": "code",
   "execution_count": 142,
   "id": "b63b2758",
   "metadata": {},
   "outputs": [],
   "source": [
    "XX.rename(columns={6:4,7:5,8:6,9:7}, inplace=True)"
   ]
  },
  {
   "cell_type": "code",
   "execution_count": 143,
   "id": "ad54883c",
   "metadata": {},
   "outputs": [
    {
     "data": {
      "text/html": [
       "<div>\n",
       "<style scoped>\n",
       "    .dataframe tbody tr th:only-of-type {\n",
       "        vertical-align: middle;\n",
       "    }\n",
       "\n",
       "    .dataframe tbody tr th {\n",
       "        vertical-align: top;\n",
       "    }\n",
       "\n",
       "    .dataframe thead th {\n",
       "        text-align: right;\n",
       "    }\n",
       "</style>\n",
       "<table border=\"1\" class=\"dataframe\">\n",
       "  <thead>\n",
       "    <tr style=\"text-align: right;\">\n",
       "      <th></th>\n",
       "      <th>0</th>\n",
       "      <th>1</th>\n",
       "      <th>2</th>\n",
       "      <th>3</th>\n",
       "      <th>4</th>\n",
       "      <th>5</th>\n",
       "      <th>6</th>\n",
       "      <th>7</th>\n",
       "    </tr>\n",
       "  </thead>\n",
       "  <tbody>\n",
       "    <tr>\n",
       "      <th>0</th>\n",
       "      <td>-1.771966</td>\n",
       "      <td>-0.579896</td>\n",
       "      <td>-0.768042</td>\n",
       "      <td>-0.242893</td>\n",
       "      <td>0.0</td>\n",
       "      <td>-0.140425</td>\n",
       "      <td>1.758561</td>\n",
       "      <td>1</td>\n",
       "    </tr>\n",
       "    <tr>\n",
       "      <th>1</th>\n",
       "      <td>-1.771966</td>\n",
       "      <td>0.182460</td>\n",
       "      <td>-0.768042</td>\n",
       "      <td>-0.242893</td>\n",
       "      <td>0.0</td>\n",
       "      <td>-0.140425</td>\n",
       "      <td>1.758561</td>\n",
       "      <td>1</td>\n",
       "    </tr>\n",
       "    <tr>\n",
       "      <th>2</th>\n",
       "      <td>-1.718184</td>\n",
       "      <td>-0.734858</td>\n",
       "      <td>-0.768042</td>\n",
       "      <td>-0.242893</td>\n",
       "      <td>0.0</td>\n",
       "      <td>-0.140425</td>\n",
       "      <td>1.758561</td>\n",
       "      <td>1</td>\n",
       "    </tr>\n",
       "    <tr>\n",
       "      <th>3</th>\n",
       "      <td>-1.610620</td>\n",
       "      <td>-0.550108</td>\n",
       "      <td>-0.768042</td>\n",
       "      <td>-0.242893</td>\n",
       "      <td>0.0</td>\n",
       "      <td>-0.140425</td>\n",
       "      <td>1.758561</td>\n",
       "      <td>1</td>\n",
       "    </tr>\n",
       "    <tr>\n",
       "      <th>4</th>\n",
       "      <td>-1.395491</td>\n",
       "      <td>-0.829187</td>\n",
       "      <td>-0.768042</td>\n",
       "      <td>-0.242893</td>\n",
       "      <td>0.0</td>\n",
       "      <td>-0.140425</td>\n",
       "      <td>1.853577</td>\n",
       "      <td>1</td>\n",
       "    </tr>\n",
       "  </tbody>\n",
       "</table>\n",
       "</div>"
      ],
      "text/plain": [
       "          0         1         2         3    4         5         6  7\n",
       "0 -1.771966 -0.579896 -0.768042 -0.242893  0.0 -0.140425  1.758561  1\n",
       "1 -1.771966  0.182460 -0.768042 -0.242893  0.0 -0.140425  1.758561  1\n",
       "2 -1.718184 -0.734858 -0.768042 -0.242893  0.0 -0.140425  1.758561  1\n",
       "3 -1.610620 -0.550108 -0.768042 -0.242893  0.0 -0.140425  1.758561  1\n",
       "4 -1.395491 -0.829187 -0.768042 -0.242893  0.0 -0.140425  1.853577  1"
      ]
     },
     "execution_count": 143,
     "metadata": {},
     "output_type": "execute_result"
    }
   ],
   "source": [
    "XX.head()"
   ]
  },
  {
   "cell_type": "code",
   "execution_count": 144,
   "id": "6fa2ba5c",
   "metadata": {},
   "outputs": [],
   "source": [
    "avgtrain3_accuracy=[]\n",
    "avgtest3_accuracy=[]\n",
    "avgtrainerror3=[]\n",
    "avgtesterror3=[]"
   ]
  },
  {
   "cell_type": "code",
   "execution_count": 145,
   "id": "aca5d437",
   "metadata": {},
   "outputs": [
    {
     "name": "stdout",
     "output_type": "stream",
     "text": [
      "OLS Summary for iteration 1000\n",
      "                            OLS Regression Results                            \n",
      "==============================================================================\n",
      "Dep. Variable:                  Price   R-squared:                       0.859\n",
      "Model:                            OLS   Adj. R-squared:                  0.858\n",
      "Method:                 Least Squares   F-statistic:                     990.4\n",
      "Date:                Tue, 10 Sep 2024   Prob (F-statistic):               0.00\n",
      "Time:                        16:13:00   Log-Likelihood:                -9911.8\n",
      "No. Observations:                1148   AIC:                         1.984e+04\n",
      "Df Residuals:                    1140   BIC:                         1.988e+04\n",
      "Df Model:                           7                                         \n",
      "Covariance Type:            nonrobust                                         \n",
      "==============================================================================\n",
      "                 coef    std err          t      P>|t|      [0.025      0.975]\n",
      "------------------------------------------------------------------------------\n",
      "const       9585.3755    294.563     32.541      0.000    9007.430    1.02e+04\n",
      "0          -2388.6636     54.291    -43.998      0.000   -2495.185   -2282.142\n",
      "1           -543.1867     54.779     -9.916      0.000    -650.667    -435.707\n",
      "2            359.8942     49.163      7.320      0.000     263.433     456.355\n",
      "3            119.3831     42.290      2.823      0.005      36.408     202.358\n",
      "4          -1.063e-12   1.35e-13     -7.848      0.000   -1.33e-12   -7.97e-13\n",
      "5            100.4298     44.243      2.270      0.023      13.623     187.237\n",
      "6           1009.5989     55.506     18.189      0.000     900.694    1118.503\n",
      "7            616.8648    156.471      3.942      0.000     309.862     923.868\n",
      "==============================================================================\n",
      "Omnibus:                      166.393   Durbin-Watson:                   2.044\n",
      "Prob(Omnibus):                  0.000   Jarque-Bera (JB):             1324.775\n",
      "Skew:                          -0.398   Prob(JB):                    2.13e-288\n",
      "Kurtosis:                       8.202   Cond. No.                     8.81e+16\n",
      "==============================================================================\n",
      "\n",
      "Notes:\n",
      "[1] Standard Errors assume that the covariance matrix of the errors is correctly specified.\n",
      "[2] The smallest eigenvalue is 6.82e-31. This might indicate that there are\n",
      "strong multicollinearity problems or that the design matrix is singular.\n",
      "Average Train accuracy score is:  0.863\n",
      "Average Test accuracy score is:  0.852\n",
      "AVG Training Error : 1806924.8592470002\n",
      "AVG Test Error : 1909680.588353\n"
     ]
    }
   ],
   "source": [
    "for i in range(1, 1001):\n",
    "    X_train, X_test, Y_train, Y_test = train_test_split(XX, Y, test_size=0.20, random_state=i)\n",
    "    LR.fit(X_train, Y_train)\n",
    "    \n",
    "    ytrain_pred = LR.predict(X_train)\n",
    "    ytest_pred = LR.predict(X_test)\n",
    "    \n",
    "    avgtrain3_accuracy.append(r2_score(Y_train, ytrain_pred))\n",
    "    avgtest3_accuracy.append(r2_score(Y_test, ytest_pred))\n",
    "    \n",
    "    training_error = mean_squared_error(Y_train, ytrain_pred).round(3)\n",
    "    test_error = mean_squared_error(Y_test, ytest_pred).round(3) \n",
    "    \n",
    "    avgtrainerror3.append(training_error)\n",
    "    avgtesterror3.append(test_error)\n",
    "    \n",
    "    X_train_sm = sm.add_constant(X_train)  # Adding a constant for the intercept\n",
    "    ols_model = sm.OLS(Y_train, X_train_sm).fit()\n",
    "    \n",
    "print(f\"OLS Summary for iteration {i}\")\n",
    "print(ols_model.summary())\n",
    "print(\"Average Train accuracy score is: \",np.mean(avgtrain3_accuracy).round(3))\n",
    "print(\"Average Test accuracy score is: \", np.mean(avgtest3_accuracy).round(3))\n",
    "print(\"AVG Training Error :\", np.mean(avgtrainerror3))\n",
    "print(\"AVG Test Error :\", np.mean(avgtesterror3))"
   ]
  },
  {
   "cell_type": "markdown",
   "id": "ea25bda6",
   "metadata": {},
   "source": [
    "By removing the 4th and 5th variable we see that our test accuracy has improved quite a bit and there is a tiny decrease in the test error as well.the variance between the train error and test error is too much and the training error is lesser than test error so the model is an overfitted model.\n"
   ]
  },
  {
   "cell_type": "markdown",
   "id": "6505a4d0",
   "metadata": {},
   "source": [
    "## so to remove the overfitting nature of the model we will get rid of unnecessary variables using the method of regularization."
   ]
  },
  {
   "cell_type": "code",
   "execution_count": 146,
   "id": "88b0a646",
   "metadata": {},
   "outputs": [],
   "source": [
    "#-----------------------------------------------------------------------------------------------------------------------------"
   ]
  },
  {
   "cell_type": "markdown",
   "id": "bccc5c08",
   "metadata": {},
   "source": [
    "# Third Model - Train-Test Split with Data Validation and Regularization "
   ]
  },
  {
   "cell_type": "code",
   "execution_count": 147,
   "id": "1ffe06a9",
   "metadata": {},
   "outputs": [],
   "source": [
    "from sklearn.linear_model import Lasso"
   ]
  },
  {
   "cell_type": "markdown",
   "id": "7ab5770e",
   "metadata": {},
   "source": [
    "## first we will take alpha as 1 "
   ]
  },
  {
   "cell_type": "code",
   "execution_count": 148,
   "id": "01c1134f",
   "metadata": {},
   "outputs": [],
   "source": [
    "lass=Lasso(alpha=1.0)"
   ]
  },
  {
   "cell_type": "code",
   "execution_count": 149,
   "id": "30ec4ac3",
   "metadata": {},
   "outputs": [
    {
     "data": {
      "text/html": [
       "<style>#sk-container-id-6 {color: black;}#sk-container-id-6 pre{padding: 0;}#sk-container-id-6 div.sk-toggleable {background-color: white;}#sk-container-id-6 label.sk-toggleable__label {cursor: pointer;display: block;width: 100%;margin-bottom: 0;padding: 0.3em;box-sizing: border-box;text-align: center;}#sk-container-id-6 label.sk-toggleable__label-arrow:before {content: \"▸\";float: left;margin-right: 0.25em;color: #696969;}#sk-container-id-6 label.sk-toggleable__label-arrow:hover:before {color: black;}#sk-container-id-6 div.sk-estimator:hover label.sk-toggleable__label-arrow:before {color: black;}#sk-container-id-6 div.sk-toggleable__content {max-height: 0;max-width: 0;overflow: hidden;text-align: left;background-color: #f0f8ff;}#sk-container-id-6 div.sk-toggleable__content pre {margin: 0.2em;color: black;border-radius: 0.25em;background-color: #f0f8ff;}#sk-container-id-6 input.sk-toggleable__control:checked~div.sk-toggleable__content {max-height: 200px;max-width: 100%;overflow: auto;}#sk-container-id-6 input.sk-toggleable__control:checked~label.sk-toggleable__label-arrow:before {content: \"▾\";}#sk-container-id-6 div.sk-estimator input.sk-toggleable__control:checked~label.sk-toggleable__label {background-color: #d4ebff;}#sk-container-id-6 div.sk-label input.sk-toggleable__control:checked~label.sk-toggleable__label {background-color: #d4ebff;}#sk-container-id-6 input.sk-hidden--visually {border: 0;clip: rect(1px 1px 1px 1px);clip: rect(1px, 1px, 1px, 1px);height: 1px;margin: -1px;overflow: hidden;padding: 0;position: absolute;width: 1px;}#sk-container-id-6 div.sk-estimator {font-family: monospace;background-color: #f0f8ff;border: 1px dotted black;border-radius: 0.25em;box-sizing: border-box;margin-bottom: 0.5em;}#sk-container-id-6 div.sk-estimator:hover {background-color: #d4ebff;}#sk-container-id-6 div.sk-parallel-item::after {content: \"\";width: 100%;border-bottom: 1px solid gray;flex-grow: 1;}#sk-container-id-6 div.sk-label:hover label.sk-toggleable__label {background-color: #d4ebff;}#sk-container-id-6 div.sk-serial::before {content: \"\";position: absolute;border-left: 1px solid gray;box-sizing: border-box;top: 0;bottom: 0;left: 50%;z-index: 0;}#sk-container-id-6 div.sk-serial {display: flex;flex-direction: column;align-items: center;background-color: white;padding-right: 0.2em;padding-left: 0.2em;position: relative;}#sk-container-id-6 div.sk-item {position: relative;z-index: 1;}#sk-container-id-6 div.sk-parallel {display: flex;align-items: stretch;justify-content: center;background-color: white;position: relative;}#sk-container-id-6 div.sk-item::before, #sk-container-id-6 div.sk-parallel-item::before {content: \"\";position: absolute;border-left: 1px solid gray;box-sizing: border-box;top: 0;bottom: 0;left: 50%;z-index: -1;}#sk-container-id-6 div.sk-parallel-item {display: flex;flex-direction: column;z-index: 1;position: relative;background-color: white;}#sk-container-id-6 div.sk-parallel-item:first-child::after {align-self: flex-end;width: 50%;}#sk-container-id-6 div.sk-parallel-item:last-child::after {align-self: flex-start;width: 50%;}#sk-container-id-6 div.sk-parallel-item:only-child::after {width: 0;}#sk-container-id-6 div.sk-dashed-wrapped {border: 1px dashed gray;margin: 0 0.4em 0.5em 0.4em;box-sizing: border-box;padding-bottom: 0.4em;background-color: white;}#sk-container-id-6 div.sk-label label {font-family: monospace;font-weight: bold;display: inline-block;line-height: 1.2em;}#sk-container-id-6 div.sk-label-container {text-align: center;}#sk-container-id-6 div.sk-container {/* jupyter's `normalize.less` sets `[hidden] { display: none; }` but bootstrap.min.css set `[hidden] { display: none !important; }` so we also need the `!important` here to be able to override the default hidden behavior on the sphinx rendered scikit-learn.org. See: https://github.com/scikit-learn/scikit-learn/issues/21755 */display: inline-block !important;position: relative;}#sk-container-id-6 div.sk-text-repr-fallback {display: none;}</style><div id=\"sk-container-id-6\" class=\"sk-top-container\"><div class=\"sk-text-repr-fallback\"><pre>Lasso()</pre><b>In a Jupyter environment, please rerun this cell to show the HTML representation or trust the notebook. <br />On GitHub, the HTML representation is unable to render, please try loading this page with nbviewer.org.</b></div><div class=\"sk-container\" hidden><div class=\"sk-item\"><div class=\"sk-estimator sk-toggleable\"><input class=\"sk-toggleable__control sk-hidden--visually\" id=\"sk-estimator-id-6\" type=\"checkbox\" checked><label for=\"sk-estimator-id-6\" class=\"sk-toggleable__label sk-toggleable__label-arrow\">Lasso</label><div class=\"sk-toggleable__content\"><pre>Lasso()</pre></div></div></div></div></div>"
      ],
      "text/plain": [
       "Lasso()"
      ]
     },
     "execution_count": 149,
     "metadata": {},
     "output_type": "execute_result"
    }
   ],
   "source": [
    "lass.fit(X_train,Y_train)#we have used the x variables where we have dropped the unnecessary variables"
   ]
  },
  {
   "cell_type": "code",
   "execution_count": 153,
   "id": "e094f24d",
   "metadata": {},
   "outputs": [],
   "source": [
    "l1=lass.coef_"
   ]
  },
  {
   "cell_type": "code",
   "execution_count": 156,
   "id": "f3625e7c",
   "metadata": {},
   "outputs": [],
   "source": [
    "linreg=LR.coef_\n",
    "linreg=pd.DataFrame(linreg)"
   ]
  },
  {
   "cell_type": "code",
   "execution_count": 155,
   "id": "4394ae9b",
   "metadata": {},
   "outputs": [],
   "source": [
    "l1=pd.DataFrame(l1)"
   ]
  },
  {
   "cell_type": "code",
   "execution_count": 168,
   "id": "94c8a826",
   "metadata": {},
   "outputs": [],
   "source": [
    "x=['age', 'KM', 'HP', 'Automatic', 'cylinVolume', 'Gears', 'Weight','Fueltype']"
   ]
  },
  {
   "cell_type": "code",
   "execution_count": 169,
   "id": "90c16357",
   "metadata": {},
   "outputs": [],
   "source": [
    "x=pd.DataFrame(x)"
   ]
  },
  {
   "cell_type": "code",
   "execution_count": 170,
   "id": "b33fcfa6",
   "metadata": {},
   "outputs": [
    {
     "data": {
      "text/html": [
       "<div>\n",
       "<style scoped>\n",
       "    .dataframe tbody tr th:only-of-type {\n",
       "        vertical-align: middle;\n",
       "    }\n",
       "\n",
       "    .dataframe tbody tr th {\n",
       "        vertical-align: top;\n",
       "    }\n",
       "\n",
       "    .dataframe thead th {\n",
       "        text-align: right;\n",
       "    }\n",
       "</style>\n",
       "<table border=\"1\" class=\"dataframe\">\n",
       "  <thead>\n",
       "    <tr style=\"text-align: right;\">\n",
       "      <th></th>\n",
       "      <th>0</th>\n",
       "      <th>0</th>\n",
       "      <th>0</th>\n",
       "    </tr>\n",
       "  </thead>\n",
       "  <tbody>\n",
       "    <tr>\n",
       "      <th>0</th>\n",
       "      <td>age</td>\n",
       "      <td>-2.388664e+03</td>\n",
       "      <td>-2388.178329</td>\n",
       "    </tr>\n",
       "    <tr>\n",
       "      <th>1</th>\n",
       "      <td>KM</td>\n",
       "      <td>-5.431867e+02</td>\n",
       "      <td>-544.249242</td>\n",
       "    </tr>\n",
       "    <tr>\n",
       "      <th>2</th>\n",
       "      <td>HP</td>\n",
       "      <td>3.598942e+02</td>\n",
       "      <td>361.373105</td>\n",
       "    </tr>\n",
       "    <tr>\n",
       "      <th>3</th>\n",
       "      <td>Automatic</td>\n",
       "      <td>1.193831e+02</td>\n",
       "      <td>118.828573</td>\n",
       "    </tr>\n",
       "    <tr>\n",
       "      <th>4</th>\n",
       "      <td>cylinVolume</td>\n",
       "      <td>4.547474e-13</td>\n",
       "      <td>0.000000</td>\n",
       "    </tr>\n",
       "    <tr>\n",
       "      <th>5</th>\n",
       "      <td>Gears</td>\n",
       "      <td>1.004298e+02</td>\n",
       "      <td>99.183985</td>\n",
       "    </tr>\n",
       "    <tr>\n",
       "      <th>6</th>\n",
       "      <td>Weight</td>\n",
       "      <td>1.009599e+03</td>\n",
       "      <td>1006.115513</td>\n",
       "    </tr>\n",
       "    <tr>\n",
       "      <th>7</th>\n",
       "      <td>Fueltype</td>\n",
       "      <td>6.168648e+02</td>\n",
       "      <td>602.714524</td>\n",
       "    </tr>\n",
       "  </tbody>\n",
       "</table>\n",
       "</div>"
      ],
      "text/plain": [
       "             0             0            0\n",
       "0          age -2.388664e+03 -2388.178329\n",
       "1           KM -5.431867e+02  -544.249242\n",
       "2           HP  3.598942e+02   361.373105\n",
       "3    Automatic  1.193831e+02   118.828573\n",
       "4  cylinVolume  4.547474e-13     0.000000\n",
       "5        Gears  1.004298e+02    99.183985\n",
       "6       Weight  1.009599e+03  1006.115513\n",
       "7     Fueltype  6.168648e+02   602.714524"
      ]
     },
     "execution_count": 170,
     "metadata": {},
     "output_type": "execute_result"
    }
   ],
   "source": [
    "pd.concat([x,linreg,l1],axis=1)"
   ]
  },
  {
   "cell_type": "markdown",
   "id": "60fe8fe2",
   "metadata": {},
   "source": [
    "with alpha =1 we notice that cylinVolume coefficient has shifted to zero ,hence we can drop this variable"
   ]
  },
  {
   "cell_type": "markdown",
   "id": "0ca25f01",
   "metadata": {},
   "source": [
    "## lets check with alpha as 3"
   ]
  },
  {
   "cell_type": "code",
   "execution_count": 171,
   "id": "ee114ace",
   "metadata": {},
   "outputs": [],
   "source": [
    "lass=Lasso(alpha=3.0)"
   ]
  },
  {
   "cell_type": "code",
   "execution_count": 172,
   "id": "f4826f54",
   "metadata": {},
   "outputs": [
    {
     "data": {
      "text/html": [
       "<style>#sk-container-id-7 {color: black;}#sk-container-id-7 pre{padding: 0;}#sk-container-id-7 div.sk-toggleable {background-color: white;}#sk-container-id-7 label.sk-toggleable__label {cursor: pointer;display: block;width: 100%;margin-bottom: 0;padding: 0.3em;box-sizing: border-box;text-align: center;}#sk-container-id-7 label.sk-toggleable__label-arrow:before {content: \"▸\";float: left;margin-right: 0.25em;color: #696969;}#sk-container-id-7 label.sk-toggleable__label-arrow:hover:before {color: black;}#sk-container-id-7 div.sk-estimator:hover label.sk-toggleable__label-arrow:before {color: black;}#sk-container-id-7 div.sk-toggleable__content {max-height: 0;max-width: 0;overflow: hidden;text-align: left;background-color: #f0f8ff;}#sk-container-id-7 div.sk-toggleable__content pre {margin: 0.2em;color: black;border-radius: 0.25em;background-color: #f0f8ff;}#sk-container-id-7 input.sk-toggleable__control:checked~div.sk-toggleable__content {max-height: 200px;max-width: 100%;overflow: auto;}#sk-container-id-7 input.sk-toggleable__control:checked~label.sk-toggleable__label-arrow:before {content: \"▾\";}#sk-container-id-7 div.sk-estimator input.sk-toggleable__control:checked~label.sk-toggleable__label {background-color: #d4ebff;}#sk-container-id-7 div.sk-label input.sk-toggleable__control:checked~label.sk-toggleable__label {background-color: #d4ebff;}#sk-container-id-7 input.sk-hidden--visually {border: 0;clip: rect(1px 1px 1px 1px);clip: rect(1px, 1px, 1px, 1px);height: 1px;margin: -1px;overflow: hidden;padding: 0;position: absolute;width: 1px;}#sk-container-id-7 div.sk-estimator {font-family: monospace;background-color: #f0f8ff;border: 1px dotted black;border-radius: 0.25em;box-sizing: border-box;margin-bottom: 0.5em;}#sk-container-id-7 div.sk-estimator:hover {background-color: #d4ebff;}#sk-container-id-7 div.sk-parallel-item::after {content: \"\";width: 100%;border-bottom: 1px solid gray;flex-grow: 1;}#sk-container-id-7 div.sk-label:hover label.sk-toggleable__label {background-color: #d4ebff;}#sk-container-id-7 div.sk-serial::before {content: \"\";position: absolute;border-left: 1px solid gray;box-sizing: border-box;top: 0;bottom: 0;left: 50%;z-index: 0;}#sk-container-id-7 div.sk-serial {display: flex;flex-direction: column;align-items: center;background-color: white;padding-right: 0.2em;padding-left: 0.2em;position: relative;}#sk-container-id-7 div.sk-item {position: relative;z-index: 1;}#sk-container-id-7 div.sk-parallel {display: flex;align-items: stretch;justify-content: center;background-color: white;position: relative;}#sk-container-id-7 div.sk-item::before, #sk-container-id-7 div.sk-parallel-item::before {content: \"\";position: absolute;border-left: 1px solid gray;box-sizing: border-box;top: 0;bottom: 0;left: 50%;z-index: -1;}#sk-container-id-7 div.sk-parallel-item {display: flex;flex-direction: column;z-index: 1;position: relative;background-color: white;}#sk-container-id-7 div.sk-parallel-item:first-child::after {align-self: flex-end;width: 50%;}#sk-container-id-7 div.sk-parallel-item:last-child::after {align-self: flex-start;width: 50%;}#sk-container-id-7 div.sk-parallel-item:only-child::after {width: 0;}#sk-container-id-7 div.sk-dashed-wrapped {border: 1px dashed gray;margin: 0 0.4em 0.5em 0.4em;box-sizing: border-box;padding-bottom: 0.4em;background-color: white;}#sk-container-id-7 div.sk-label label {font-family: monospace;font-weight: bold;display: inline-block;line-height: 1.2em;}#sk-container-id-7 div.sk-label-container {text-align: center;}#sk-container-id-7 div.sk-container {/* jupyter's `normalize.less` sets `[hidden] { display: none; }` but bootstrap.min.css set `[hidden] { display: none !important; }` so we also need the `!important` here to be able to override the default hidden behavior on the sphinx rendered scikit-learn.org. See: https://github.com/scikit-learn/scikit-learn/issues/21755 */display: inline-block !important;position: relative;}#sk-container-id-7 div.sk-text-repr-fallback {display: none;}</style><div id=\"sk-container-id-7\" class=\"sk-top-container\"><div class=\"sk-text-repr-fallback\"><pre>Lasso(alpha=3.0)</pre><b>In a Jupyter environment, please rerun this cell to show the HTML representation or trust the notebook. <br />On GitHub, the HTML representation is unable to render, please try loading this page with nbviewer.org.</b></div><div class=\"sk-container\" hidden><div class=\"sk-item\"><div class=\"sk-estimator sk-toggleable\"><input class=\"sk-toggleable__control sk-hidden--visually\" id=\"sk-estimator-id-7\" type=\"checkbox\" checked><label for=\"sk-estimator-id-7\" class=\"sk-toggleable__label sk-toggleable__label-arrow\">Lasso</label><div class=\"sk-toggleable__content\"><pre>Lasso(alpha=3.0)</pre></div></div></div></div></div>"
      ],
      "text/plain": [
       "Lasso(alpha=3.0)"
      ]
     },
     "execution_count": 172,
     "metadata": {},
     "output_type": "execute_result"
    }
   ],
   "source": [
    "lass.fit(X_train,Y_train)"
   ]
  },
  {
   "cell_type": "code",
   "execution_count": 177,
   "id": "c07930e3",
   "metadata": {},
   "outputs": [],
   "source": [
    "l3=lass.coef_\n",
    "l3=pd.DataFrame(l3)"
   ]
  },
  {
   "cell_type": "code",
   "execution_count": 178,
   "id": "aaf177d3",
   "metadata": {},
   "outputs": [
    {
     "data": {
      "text/html": [
       "<div>\n",
       "<style scoped>\n",
       "    .dataframe tbody tr th:only-of-type {\n",
       "        vertical-align: middle;\n",
       "    }\n",
       "\n",
       "    .dataframe tbody tr th {\n",
       "        vertical-align: top;\n",
       "    }\n",
       "\n",
       "    .dataframe thead th {\n",
       "        text-align: right;\n",
       "    }\n",
       "</style>\n",
       "<table border=\"1\" class=\"dataframe\">\n",
       "  <thead>\n",
       "    <tr style=\"text-align: right;\">\n",
       "      <th></th>\n",
       "      <th>0</th>\n",
       "      <th>0</th>\n",
       "      <th>0</th>\n",
       "      <th>0</th>\n",
       "    </tr>\n",
       "  </thead>\n",
       "  <tbody>\n",
       "    <tr>\n",
       "      <th>0</th>\n",
       "      <td>age</td>\n",
       "      <td>-2.388664e+03</td>\n",
       "      <td>-2388.178329</td>\n",
       "      <td>-2386.947284</td>\n",
       "    </tr>\n",
       "    <tr>\n",
       "      <th>1</th>\n",
       "      <td>KM</td>\n",
       "      <td>-5.431867e+02</td>\n",
       "      <td>-544.249242</td>\n",
       "      <td>-546.487116</td>\n",
       "    </tr>\n",
       "    <tr>\n",
       "      <th>2</th>\n",
       "      <td>HP</td>\n",
       "      <td>3.598942e+02</td>\n",
       "      <td>361.373105</td>\n",
       "      <td>364.237748</td>\n",
       "    </tr>\n",
       "    <tr>\n",
       "      <th>3</th>\n",
       "      <td>Automatic</td>\n",
       "      <td>1.193831e+02</td>\n",
       "      <td>118.828573</td>\n",
       "      <td>117.673191</td>\n",
       "    </tr>\n",
       "    <tr>\n",
       "      <th>4</th>\n",
       "      <td>cylinVolume</td>\n",
       "      <td>4.547474e-13</td>\n",
       "      <td>0.000000</td>\n",
       "      <td>0.000000</td>\n",
       "    </tr>\n",
       "    <tr>\n",
       "      <th>5</th>\n",
       "      <td>Gears</td>\n",
       "      <td>1.004298e+02</td>\n",
       "      <td>99.183985</td>\n",
       "      <td>96.697497</td>\n",
       "    </tr>\n",
       "    <tr>\n",
       "      <th>6</th>\n",
       "      <td>Weight</td>\n",
       "      <td>1.009599e+03</td>\n",
       "      <td>1006.115513</td>\n",
       "      <td>999.348262</td>\n",
       "    </tr>\n",
       "    <tr>\n",
       "      <th>7</th>\n",
       "      <td>Fueltype</td>\n",
       "      <td>6.168648e+02</td>\n",
       "      <td>602.714524</td>\n",
       "      <td>574.614983</td>\n",
       "    </tr>\n",
       "  </tbody>\n",
       "</table>\n",
       "</div>"
      ],
      "text/plain": [
       "             0             0            0            0\n",
       "0          age -2.388664e+03 -2388.178329 -2386.947284\n",
       "1           KM -5.431867e+02  -544.249242  -546.487116\n",
       "2           HP  3.598942e+02   361.373105   364.237748\n",
       "3    Automatic  1.193831e+02   118.828573   117.673191\n",
       "4  cylinVolume  4.547474e-13     0.000000     0.000000\n",
       "5        Gears  1.004298e+02    99.183985    96.697497\n",
       "6       Weight  1.009599e+03  1006.115513   999.348262\n",
       "7     Fueltype  6.168648e+02   602.714524   574.614983"
      ]
     },
     "execution_count": 178,
     "metadata": {},
     "output_type": "execute_result"
    }
   ],
   "source": [
    "pd.concat([x,linreg,l1,l3],axis=1)"
   ]
  },
  {
   "cell_type": "markdown",
   "id": "f572a62c",
   "metadata": {},
   "source": [
    " with alpha as 3 the variable show no significant difference ,hence it made no effect on the coefficient of the variables apart from cylinVolume"
   ]
  },
  {
   "cell_type": "markdown",
   "id": "2e8acaba",
   "metadata": {},
   "source": [
    "## with alpha as 5"
   ]
  },
  {
   "cell_type": "code",
   "execution_count": 180,
   "id": "56a0d07a",
   "metadata": {},
   "outputs": [],
   "source": [
    "lass=Lasso(alpha=5)"
   ]
  },
  {
   "cell_type": "code",
   "execution_count": 181,
   "id": "8e35815b",
   "metadata": {},
   "outputs": [
    {
     "data": {
      "text/html": [
       "<style>#sk-container-id-8 {color: black;}#sk-container-id-8 pre{padding: 0;}#sk-container-id-8 div.sk-toggleable {background-color: white;}#sk-container-id-8 label.sk-toggleable__label {cursor: pointer;display: block;width: 100%;margin-bottom: 0;padding: 0.3em;box-sizing: border-box;text-align: center;}#sk-container-id-8 label.sk-toggleable__label-arrow:before {content: \"▸\";float: left;margin-right: 0.25em;color: #696969;}#sk-container-id-8 label.sk-toggleable__label-arrow:hover:before {color: black;}#sk-container-id-8 div.sk-estimator:hover label.sk-toggleable__label-arrow:before {color: black;}#sk-container-id-8 div.sk-toggleable__content {max-height: 0;max-width: 0;overflow: hidden;text-align: left;background-color: #f0f8ff;}#sk-container-id-8 div.sk-toggleable__content pre {margin: 0.2em;color: black;border-radius: 0.25em;background-color: #f0f8ff;}#sk-container-id-8 input.sk-toggleable__control:checked~div.sk-toggleable__content {max-height: 200px;max-width: 100%;overflow: auto;}#sk-container-id-8 input.sk-toggleable__control:checked~label.sk-toggleable__label-arrow:before {content: \"▾\";}#sk-container-id-8 div.sk-estimator input.sk-toggleable__control:checked~label.sk-toggleable__label {background-color: #d4ebff;}#sk-container-id-8 div.sk-label input.sk-toggleable__control:checked~label.sk-toggleable__label {background-color: #d4ebff;}#sk-container-id-8 input.sk-hidden--visually {border: 0;clip: rect(1px 1px 1px 1px);clip: rect(1px, 1px, 1px, 1px);height: 1px;margin: -1px;overflow: hidden;padding: 0;position: absolute;width: 1px;}#sk-container-id-8 div.sk-estimator {font-family: monospace;background-color: #f0f8ff;border: 1px dotted black;border-radius: 0.25em;box-sizing: border-box;margin-bottom: 0.5em;}#sk-container-id-8 div.sk-estimator:hover {background-color: #d4ebff;}#sk-container-id-8 div.sk-parallel-item::after {content: \"\";width: 100%;border-bottom: 1px solid gray;flex-grow: 1;}#sk-container-id-8 div.sk-label:hover label.sk-toggleable__label {background-color: #d4ebff;}#sk-container-id-8 div.sk-serial::before {content: \"\";position: absolute;border-left: 1px solid gray;box-sizing: border-box;top: 0;bottom: 0;left: 50%;z-index: 0;}#sk-container-id-8 div.sk-serial {display: flex;flex-direction: column;align-items: center;background-color: white;padding-right: 0.2em;padding-left: 0.2em;position: relative;}#sk-container-id-8 div.sk-item {position: relative;z-index: 1;}#sk-container-id-8 div.sk-parallel {display: flex;align-items: stretch;justify-content: center;background-color: white;position: relative;}#sk-container-id-8 div.sk-item::before, #sk-container-id-8 div.sk-parallel-item::before {content: \"\";position: absolute;border-left: 1px solid gray;box-sizing: border-box;top: 0;bottom: 0;left: 50%;z-index: -1;}#sk-container-id-8 div.sk-parallel-item {display: flex;flex-direction: column;z-index: 1;position: relative;background-color: white;}#sk-container-id-8 div.sk-parallel-item:first-child::after {align-self: flex-end;width: 50%;}#sk-container-id-8 div.sk-parallel-item:last-child::after {align-self: flex-start;width: 50%;}#sk-container-id-8 div.sk-parallel-item:only-child::after {width: 0;}#sk-container-id-8 div.sk-dashed-wrapped {border: 1px dashed gray;margin: 0 0.4em 0.5em 0.4em;box-sizing: border-box;padding-bottom: 0.4em;background-color: white;}#sk-container-id-8 div.sk-label label {font-family: monospace;font-weight: bold;display: inline-block;line-height: 1.2em;}#sk-container-id-8 div.sk-label-container {text-align: center;}#sk-container-id-8 div.sk-container {/* jupyter's `normalize.less` sets `[hidden] { display: none; }` but bootstrap.min.css set `[hidden] { display: none !important; }` so we also need the `!important` here to be able to override the default hidden behavior on the sphinx rendered scikit-learn.org. See: https://github.com/scikit-learn/scikit-learn/issues/21755 */display: inline-block !important;position: relative;}#sk-container-id-8 div.sk-text-repr-fallback {display: none;}</style><div id=\"sk-container-id-8\" class=\"sk-top-container\"><div class=\"sk-text-repr-fallback\"><pre>Lasso(alpha=5)</pre><b>In a Jupyter environment, please rerun this cell to show the HTML representation or trust the notebook. <br />On GitHub, the HTML representation is unable to render, please try loading this page with nbviewer.org.</b></div><div class=\"sk-container\" hidden><div class=\"sk-item\"><div class=\"sk-estimator sk-toggleable\"><input class=\"sk-toggleable__control sk-hidden--visually\" id=\"sk-estimator-id-8\" type=\"checkbox\" checked><label for=\"sk-estimator-id-8\" class=\"sk-toggleable__label sk-toggleable__label-arrow\">Lasso</label><div class=\"sk-toggleable__content\"><pre>Lasso(alpha=5)</pre></div></div></div></div></div>"
      ],
      "text/plain": [
       "Lasso(alpha=5)"
      ]
     },
     "execution_count": 181,
     "metadata": {},
     "output_type": "execute_result"
    }
   ],
   "source": [
    "lass.fit(X_train,Y_train)"
   ]
  },
  {
   "cell_type": "code",
   "execution_count": 183,
   "id": "9b2c1c54",
   "metadata": {},
   "outputs": [],
   "source": [
    "l5=lass.coef_\n",
    "l5=pd.DataFrame(l5)"
   ]
  },
  {
   "cell_type": "code",
   "execution_count": 184,
   "id": "b6187606",
   "metadata": {},
   "outputs": [
    {
     "data": {
      "text/html": [
       "<div>\n",
       "<style scoped>\n",
       "    .dataframe tbody tr th:only-of-type {\n",
       "        vertical-align: middle;\n",
       "    }\n",
       "\n",
       "    .dataframe tbody tr th {\n",
       "        vertical-align: top;\n",
       "    }\n",
       "\n",
       "    .dataframe thead th {\n",
       "        text-align: right;\n",
       "    }\n",
       "</style>\n",
       "<table border=\"1\" class=\"dataframe\">\n",
       "  <thead>\n",
       "    <tr style=\"text-align: right;\">\n",
       "      <th></th>\n",
       "      <th>0</th>\n",
       "      <th>0</th>\n",
       "      <th>0</th>\n",
       "      <th>0</th>\n",
       "      <th>0</th>\n",
       "    </tr>\n",
       "  </thead>\n",
       "  <tbody>\n",
       "    <tr>\n",
       "      <th>0</th>\n",
       "      <td>age</td>\n",
       "      <td>-2.388664e+03</td>\n",
       "      <td>-2388.178329</td>\n",
       "      <td>-2386.947284</td>\n",
       "      <td>-2385.716239</td>\n",
       "    </tr>\n",
       "    <tr>\n",
       "      <th>1</th>\n",
       "      <td>KM</td>\n",
       "      <td>-5.431867e+02</td>\n",
       "      <td>-544.249242</td>\n",
       "      <td>-546.487116</td>\n",
       "      <td>-548.724991</td>\n",
       "    </tr>\n",
       "    <tr>\n",
       "      <th>2</th>\n",
       "      <td>HP</td>\n",
       "      <td>3.598942e+02</td>\n",
       "      <td>361.373105</td>\n",
       "      <td>364.237748</td>\n",
       "      <td>367.102391</td>\n",
       "    </tr>\n",
       "    <tr>\n",
       "      <th>3</th>\n",
       "      <td>Automatic</td>\n",
       "      <td>1.193831e+02</td>\n",
       "      <td>118.828573</td>\n",
       "      <td>117.673191</td>\n",
       "      <td>116.517809</td>\n",
       "    </tr>\n",
       "    <tr>\n",
       "      <th>4</th>\n",
       "      <td>cylinVolume</td>\n",
       "      <td>4.547474e-13</td>\n",
       "      <td>0.000000</td>\n",
       "      <td>0.000000</td>\n",
       "      <td>0.000000</td>\n",
       "    </tr>\n",
       "    <tr>\n",
       "      <th>5</th>\n",
       "      <td>Gears</td>\n",
       "      <td>1.004298e+02</td>\n",
       "      <td>99.183985</td>\n",
       "      <td>96.697497</td>\n",
       "      <td>94.211010</td>\n",
       "    </tr>\n",
       "    <tr>\n",
       "      <th>6</th>\n",
       "      <td>Weight</td>\n",
       "      <td>1.009599e+03</td>\n",
       "      <td>1006.115513</td>\n",
       "      <td>999.348262</td>\n",
       "      <td>992.581011</td>\n",
       "    </tr>\n",
       "    <tr>\n",
       "      <th>7</th>\n",
       "      <td>Fueltype</td>\n",
       "      <td>6.168648e+02</td>\n",
       "      <td>602.714524</td>\n",
       "      <td>574.614983</td>\n",
       "      <td>546.515443</td>\n",
       "    </tr>\n",
       "  </tbody>\n",
       "</table>\n",
       "</div>"
      ],
      "text/plain": [
       "             0             0            0            0            0\n",
       "0          age -2.388664e+03 -2388.178329 -2386.947284 -2385.716239\n",
       "1           KM -5.431867e+02  -544.249242  -546.487116  -548.724991\n",
       "2           HP  3.598942e+02   361.373105   364.237748   367.102391\n",
       "3    Automatic  1.193831e+02   118.828573   117.673191   116.517809\n",
       "4  cylinVolume  4.547474e-13     0.000000     0.000000     0.000000\n",
       "5        Gears  1.004298e+02    99.183985    96.697497    94.211010\n",
       "6       Weight  1.009599e+03  1006.115513   999.348262   992.581011\n",
       "7     Fueltype  6.168648e+02   602.714524   574.614983   546.515443"
      ]
     },
     "execution_count": 184,
     "metadata": {},
     "output_type": "execute_result"
    }
   ],
   "source": [
    "pd.concat([x,linreg,l1,l3,l5],axis=1)"
   ]
  },
  {
   "cell_type": "markdown",
   "id": "fd412342",
   "metadata": {},
   "source": [
    "with alpha as 5 too ,we see that the coeff of the variables did not shrink to zero,therefore we can say that apart from cylinVolume all the variables are important and has an effect on the price.we can drop the cylinVolume now"
   ]
  },
  {
   "cell_type": "code",
   "execution_count": 186,
   "id": "52f634d9",
   "metadata": {},
   "outputs": [],
   "source": [
    "XX.drop(columns=XX.columns[4],inplace=True)"
   ]
  },
  {
   "cell_type": "markdown",
   "id": "8dcad135",
   "metadata": {},
   "source": [
    "## we can now fit the model and see how our model reacts to the train error/accuracy and test error/accuracy"
   ]
  },
  {
   "cell_type": "code",
   "execution_count": 187,
   "id": "aaca3be6",
   "metadata": {},
   "outputs": [],
   "source": [
    "avgtrain4_accuracy=[]\n",
    "avgtest4_accuracy=[]\n",
    "avgtrainerror4=[]\n",
    "avgtesterror4=[]"
   ]
  },
  {
   "cell_type": "code",
   "execution_count": 189,
   "id": "e4b3ffa8",
   "metadata": {},
   "outputs": [
    {
     "name": "stdout",
     "output_type": "stream",
     "text": [
      "OLS Summary for iteration 1000\n",
      "                            OLS Regression Results                            \n",
      "==============================================================================\n",
      "Dep. Variable:                  Price   R-squared:                       0.859\n",
      "Model:                            OLS   Adj. R-squared:                  0.858\n",
      "Method:                 Least Squares   F-statistic:                     990.4\n",
      "Date:                Tue, 10 Sep 2024   Prob (F-statistic):               0.00\n",
      "Time:                        16:47:28   Log-Likelihood:                -9911.8\n",
      "No. Observations:                1148   AIC:                         1.984e+04\n",
      "Df Residuals:                    1140   BIC:                         1.988e+04\n",
      "Df Model:                           7                                         \n",
      "Covariance Type:            nonrobust                                         \n",
      "==============================================================================\n",
      "                 coef    std err          t      P>|t|      [0.025      0.975]\n",
      "------------------------------------------------------------------------------\n",
      "const       9585.3755    294.563     32.541      0.000    9007.430    1.02e+04\n",
      "0          -2388.6636     54.291    -43.998      0.000   -2495.185   -2282.142\n",
      "1           -543.1867     54.779     -9.916      0.000    -650.667    -435.707\n",
      "2            359.8942     49.163      7.320      0.000     263.433     456.355\n",
      "3            119.3831     42.290      2.823      0.005      36.408     202.358\n",
      "5            100.4298     44.243      2.270      0.023      13.623     187.237\n",
      "6           1009.5989     55.506     18.189      0.000     900.694    1118.503\n",
      "7            616.8648    156.471      3.942      0.000     309.862     923.868\n",
      "==============================================================================\n",
      "Omnibus:                      166.393   Durbin-Watson:                   2.044\n",
      "Prob(Omnibus):                  0.000   Jarque-Bera (JB):             1324.775\n",
      "Skew:                          -0.398   Prob(JB):                    2.13e-288\n",
      "Kurtosis:                       8.202   Cond. No.                         17.9\n",
      "==============================================================================\n",
      "\n",
      "Notes:\n",
      "[1] Standard Errors assume that the covariance matrix of the errors is correctly specified.\n",
      "Average Train accuracy score is:  0.863\n",
      "Average Test accuracy score is:  0.852\n",
      "AVG Training Error : 1806924.8592470002\n",
      "AVG Test Error : 1909680.588353\n"
     ]
    }
   ],
   "source": [
    "for i in range(1, 1001):\n",
    "    X_train, X_test, Y_train, Y_test = train_test_split(XX, Y, test_size=0.20, random_state=i)\n",
    "    LR.fit(X_train, Y_train)\n",
    "    \n",
    "    ytrain_pred = LR.predict(X_train)\n",
    "    ytest_pred = LR.predict(X_test)\n",
    "    \n",
    "    avgtrain4_accuracy.append(r2_score(Y_train, ytrain_pred))\n",
    "    avgtest4_accuracy.append(r2_score(Y_test, ytest_pred))\n",
    "    \n",
    "    training_error = mean_squared_error(Y_train, ytrain_pred).round(3)\n",
    "    test_error = mean_squared_error(Y_test, ytest_pred).round(3) \n",
    "    \n",
    "    avgtrainerror4.append(training_error)\n",
    "    avgtesterror4.append(test_error)\n",
    "    \n",
    "    X_train_sm = sm.add_constant(X_train)  # Adding a constant for the intercept\n",
    "    ols_model = sm.OLS(Y_train, X_train_sm).fit()\n",
    "    \n",
    "print(f\"OLS Summary for iteration {i}\")\n",
    "print(ols_model.summary())\n",
    "print(\"Average Train accuracy score is: \",np.mean(avgtrain4_accuracy).round(3))\n",
    "print(\"Average Test accuracy score is: \", np.mean(avgtest4_accuracy).round(3))\n",
    "print(\"AVG Training Error :\", np.mean(avgtrainerror4))\n",
    "print(\"AVG Test Error :\", np.mean(avgtesterror4))"
   ]
  },
  {
   "cell_type": "markdown",
   "id": "a1f29900",
   "metadata": {},
   "source": [
    "### our model is a good fit model ,where our train and test accuracies are pretty close with each other.\n",
    "###  Even though our train and test errors are pretty high they have gotten close to each other .we can further apply more transformations and see if it reduces the error ,but we'll leave it like this for now.\n",
    "### As far as the effect of our variables on the price of the vehicle is concerned,we say that our variable age has a strong negative high coefficent which indicates that it has a strong negative correlation on price.so if the age increases ,price decreases.\n",
    "### similarly,weight and fueltype has a strong positive  effect on the price ,so if the weight and fuel type(i.e,if the fuel type is petrol or diesel) increases our price increases.\n",
    "### so we can say that age,fueltype,weight,km,hp,automatic,and gears effect the price in either a negative or a positive way"
   ]
  },
  {
   "cell_type": "markdown",
   "id": "b17ffb31",
   "metadata": {},
   "source": [
    "# INTERVIEW QUESTION:\n",
    "## 1.What is Normalization & Standardization and how is it helpful?\n",
    "### Normalization /Standardization is used to transform our numerical data within a range of 0 to 1.this is done to avoid the bad effect on our predictions due to  having different units in our population data,\n",
    "And standardizing the data also reduces the computation time if we have a big dataset.We can use StandardScaler to standardize our data.\n",
    "## 2.What techniques can be used to address multicollinearity in multiple linear regression?\n",
    "### To address the multicollinearity there are 3 methods \n",
    "### we can first calculate the vif(variance indication factor)\n",
    "#### we can see if the vif is <5 then it has no multicollinearity issues and if the vif \n",
    "#### is between 5-10 there is multicollinearity issues and if it is greater than  10 there is strong multicollinearity amongst the variables.\n",
    "#### Based on this we can remove our variables or we can directly check using the stats model and check using its inbuilt package vif like we have done in the above techniques.\n",
    "### another is regularization technique using lasso and ridge regression where the coefficients of unnecessary variables gets shrinked to 0 ,and we can analyze it and remove the unnecessary variables.\n",
    "### Another method is using PCA(principle component analysis),here it focuses on not losing the information of the data and it reduces the dimensions while keeping the data that are in principale components which is uncorrelated to each other."
   ]
  }
 ],
 "metadata": {
  "kernelspec": {
   "display_name": "Python 3 (ipykernel)",
   "language": "python",
   "name": "python3"
  },
  "language_info": {
   "codemirror_mode": {
    "name": "ipython",
    "version": 3
   },
   "file_extension": ".py",
   "mimetype": "text/x-python",
   "name": "python",
   "nbconvert_exporter": "python",
   "pygments_lexer": "ipython3",
   "version": "3.11.5"
  }
 },
 "nbformat": 4,
 "nbformat_minor": 5
}
